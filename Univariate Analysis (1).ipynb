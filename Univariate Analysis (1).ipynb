{
 "cells": [
  {
   "cell_type": "markdown",
   "id": "db4b5b49",
   "metadata": {},
   "source": [
    "# Univariate Analysis"
   ]
  },
  {
   "cell_type": "code",
   "execution_count": 525,
   "id": "c4cfcf89",
   "metadata": {},
   "outputs": [],
   "source": [
    "import csv\n",
    "import pandas as pd\n",
    "import glob\n",
    "import seaborn as sns\n",
    "import matplotlib.pyplot as plt\n",
    "import numpy as np\n",
    "import scipy.stats as stats"
   ]
  },
  {
   "cell_type": "markdown",
   "id": "528f3803",
   "metadata": {},
   "source": [
    "# Import Data"
   ]
  },
  {
   "cell_type": "code",
   "execution_count": 526,
   "id": "2682e26e",
   "metadata": {
    "scrolled": false
   },
   "outputs": [],
   "source": [
    "csv_files = glob.glob('*.csv')\n",
    "dfs = []\n",
    "\n",
    "for file in csv_files:\n",
    "    df = pd.read_csv(file)\n",
    "    dfs.append(df)\n",
    "\n",
    "df = pd.concat(dfs, ignore_index=True)"
   ]
  },
  {
   "cell_type": "markdown",
   "id": "4f3826d4",
   "metadata": {},
   "source": [
    "# Display Data Information"
   ]
  },
  {
   "cell_type": "code",
   "execution_count": 527,
   "id": "ff0c6a4b",
   "metadata": {},
   "outputs": [
    {
     "name": "stdout",
     "output_type": "stream",
     "text": [
      "<class 'pandas.core.frame.DataFrame'>\n",
      "RangeIndex: 999999 entries, 0 to 999998\n",
      "Data columns (total 13 columns):\n",
      " #   Column                Non-Null Count   Dtype  \n",
      "---  ------                --------------   -----  \n",
      " 0   factory_id            999999 non-null  int64  \n",
      " 1   tag_type_code         999999 non-null  int64  \n",
      " 2   battery_replace_date  999999 non-null  object \n",
      " 3   display_name          999999 non-null  object \n",
      " 4   wdt_state_id          999999 non-null  int64  \n",
      " 5   sensor_value          999999 non-null  int64  \n",
      " 6   voltage               999999 non-null  float64\n",
      " 7   battery_capacity      999999 non-null  float64\n",
      " 8   base_capacity         999999 non-null  float64\n",
      " 9   wakeup_counter        999999 non-null  int64  \n",
      " 10  firmware_version      999999 non-null  int64  \n",
      " 11  read_date             999999 non-null  object \n",
      " 12  render_counter        999999 non-null  int64  \n",
      "dtypes: float64(3), int64(7), object(3)\n",
      "memory usage: 99.2+ MB\n"
     ]
    }
   ],
   "source": [
    "df.info() # no missing values (1,000,000 values expected)"
   ]
  },
  {
   "cell_type": "markdown",
   "id": "eb9da3bb",
   "metadata": {},
   "source": [
    "# Factory ID"
   ]
  },
  {
   "cell_type": "code",
   "execution_count": 528,
   "id": "2bb1793f",
   "metadata": {},
   "outputs": [
    {
     "name": "stdout",
     "output_type": "stream",
     "text": [
      "Unique Factory IDs: 10996\n",
      "Unique Factory ID Counts: factory_id\n",
      "72561069    120\n",
      "72550335    120\n",
      "72554802    120\n",
      "72552537    120\n",
      "72554691    120\n",
      "           ... \n",
      "72558765      1\n",
      "72235152      1\n",
      "72557858      1\n",
      "72557856      1\n",
      "72596742      1\n",
      "Name: count, Length: 10996, dtype: int64\n"
     ]
    }
   ],
   "source": [
    "# Factory ID is more categorical than numerical, so we find how many unique IDs as well as well as their counts\n",
    "factory_unique = df['factory_id'].unique()\n",
    "print('Unique Factory IDs:', len(factory_unique))\n",
    "\n",
    "factory_counts = df['factory_id'].value_counts()\n",
    "print('Unique Factory ID Counts:', factory_counts)"
   ]
  },
  {
   "cell_type": "markdown",
   "id": "3ac26eec",
   "metadata": {},
   "source": [
    "# Tag Type Code"
   ]
  },
  {
   "cell_type": "code",
   "execution_count": 529,
   "id": "cac77e03",
   "metadata": {},
   "outputs": [
    {
     "name": "stdout",
     "output_type": "stream",
     "text": [
      "Unique Tag Type Codes: 1\n",
      "Unique Factory ID Counts: tag_type_code\n",
      "208    999999\n",
      "Name: count, dtype: int64\n"
     ]
    }
   ],
   "source": [
    "# Similar to factory ID, categorical. Contains only 1 unique value.\n",
    "ttc_unique = df['tag_type_code'].unique()\n",
    "print('Unique Tag Type Codes:', len(ttc_unique))\n",
    "\n",
    "ttc_counts = df['tag_type_code'].value_counts()\n",
    "print('Unique Factory ID Counts:', ttc_counts)"
   ]
  },
  {
   "cell_type": "markdown",
   "id": "d27ab140",
   "metadata": {},
   "source": [
    "# Battery Replacement Date"
   ]
  },
  {
   "cell_type": "code",
   "execution_count": 530,
   "id": "f78b0df7",
   "metadata": {},
   "outputs": [
    {
     "data": {
      "text/plain": [
       "factory_id                       int64\n",
       "tag_type_code                    int64\n",
       "battery_replace_date    datetime64[ns]\n",
       "display_name                    object\n",
       "wdt_state_id                     int64\n",
       "sensor_value                     int64\n",
       "voltage                        float64\n",
       "battery_capacity               float64\n",
       "base_capacity                  float64\n",
       "wakeup_counter                   int64\n",
       "firmware_version                 int64\n",
       "read_date               datetime64[ns]\n",
       "render_counter                   int64\n",
       "dtype: object"
      ]
     },
     "execution_count": 530,
     "metadata": {},
     "output_type": "execute_result"
    }
   ],
   "source": [
    "# Turn the dates from object to datetime\n",
    "df['read_date'] = df['read_date'].str.replace(r'\\.\\d+$', '', regex=True)\n",
    "df['battery_replace_date'] = df['battery_replace_date'].str.replace(r'\\.\\d+$', '', regex=True)\n",
    "\n",
    "df['battery_replace_date'] = pd.to_datetime(df['battery_replace_date'])\n",
    "df['read_date'] = pd.to_datetime(df['read_date'])\n",
    "\n",
    "# Confirm data types\n",
    "df.dtypes"
   ]
  },
  {
   "cell_type": "code",
   "execution_count": 531,
   "id": "78090a22",
   "metadata": {},
   "outputs": [
    {
     "name": "stdout",
     "output_type": "stream",
     "text": [
      "Battery Replacement Date Range: 2007-12-26 00:00:00 to 2135-05-16 01:00:00\n",
      "battery_replace_date\n",
      "2018-03-27 01:00:00    340631\n",
      "2018-03-26 01:00:00    238643\n",
      "2018-05-16 01:00:00    191533\n",
      "2018-03-28 01:00:00     92331\n",
      "2018-05-21 01:00:00     31386\n",
      "                        ...  \n",
      "2018-05-22 15:57:02         1\n",
      "2018-06-07 09:13:47         1\n",
      "2018-06-07 09:47:51         1\n",
      "2018-05-28 08:19:46         1\n",
      "2018-06-07 14:44:03         1\n",
      "Name: count, Length: 104, dtype: int64 \n",
      "\n",
      "Most recent dates:\n",
      "250360   2135-05-16 01:00:00\n",
      "672549   2062-12-01 00:00:00\n",
      "9930     2049-11-10 00:00:00\n",
      "42155    2049-11-10 00:00:00\n",
      "355699   2049-11-10 00:00:00\n",
      "986970   2018-12-29 11:19:42\n",
      "986971   2018-12-29 11:19:42\n",
      "986972   2018-12-29 11:19:42\n",
      "791663   2018-12-18 13:10:04\n",
      "791664   2018-12-18 13:10:04\n",
      "Name: battery_replace_date, dtype: datetime64[ns]\n"
     ]
    }
   ],
   "source": [
    "# Dates at which the battery was last replaced\n",
    "battery_replace_date = df['battery_replace_date']\n",
    "print('Battery Replacement Date Range:', battery_replace_date.min(), 'to', battery_replace_date.max())\n",
    "\n",
    "battery_replace_date_counts = df['battery_replace_date'].value_counts()\n",
    "print(battery_replace_date_counts, '\\n')\n",
    "\n",
    "# It appears there are some nonsensical dates, we must drop them. Get the top 10 most recent dates\n",
    "top_10_dates = battery_replace_date.nlargest(10)\n",
    "print('Most recent dates:')\n",
    "print(top_10_dates)"
   ]
  },
  {
   "cell_type": "code",
   "execution_count": 532,
   "id": "5dc517f0",
   "metadata": {},
   "outputs": [
    {
     "name": "stdout",
     "output_type": "stream",
     "text": [
      "Battery Replacement Date Range: 2007-12-26 00:00:00 to 2018-12-29 11:19:42\n"
     ]
    }
   ],
   "source": [
    "# Drop all dates past December 31, 2018, then check range again.\n",
    "dates_filtered = df[battery_replace_date <= '2018-12-31']\n",
    "\n",
    "# Display the min and max of the filtered 'battery_replace_date'\n",
    "battery_replace_date = dates_filtered['battery_replace_date'].dropna()\n",
    "print('Battery Replacement Date Range:', battery_replace_date.min(), 'to', battery_replace_date.max())"
   ]
  },
  {
   "cell_type": "code",
   "execution_count": 533,
   "id": "3e2e409f",
   "metadata": {},
   "outputs": [
    {
     "name": "stdout",
     "output_type": "stream",
     "text": [
      "Battery Replacement Counts: 101\n",
      "5468     2007-12-26 00:00:00\n",
      "17617    2008-01-08 00:00:00\n",
      "18849    2008-01-10 00:00:00\n",
      "21390    2008-01-12 00:00:00\n",
      "35933    2008-01-13 00:00:00\n",
      "                 ...        \n",
      "724993   2018-07-06 13:43:29\n",
      "961741   2018-07-07 15:41:54\n",
      "258521   2018-12-14 00:00:00\n",
      "791663   2018-12-18 13:10:04\n",
      "986970   2018-12-29 11:19:42\n",
      "Name: battery_replace_date, Length: 101, dtype: datetime64[ns]\n"
     ]
    }
   ],
   "source": [
    "# Find how many times the battery is replaced\n",
    "battery_replace_counts = len(battery_replace_date.unique())\n",
    "print('Battery Replacement Counts:', battery_replace_counts)\n",
    "\n",
    "# Average Time between battery replacements\n",
    "unique_dates = battery_replace_date.drop_duplicates().sort_values()\n",
    "print(unique_dates)"
   ]
  },
  {
   "cell_type": "code",
   "execution_count": 534,
   "id": "dcb2192a",
   "metadata": {},
   "outputs": [
    {
     "data": {
      "text/plain": [
       "count                            100\n",
       "mean         40 days 05:09:11.820000\n",
       "std      354 days 01:20:50.579899540\n",
       "min                  0 days 00:00:07\n",
       "25%           0 days 00:45:51.250000\n",
       "50%                  1 days 00:00:00\n",
       "75%                  2 days 00:00:00\n",
       "max               3541 days 01:00:00\n",
       "Name: battery_replace_date, dtype: object"
      ]
     },
     "execution_count": 534,
     "metadata": {},
     "output_type": "execute_result"
    }
   ],
   "source": [
    "# Calculate the difference between consecutive dates\n",
    "time_diff = unique_dates.diff().dropna()\n",
    "\n",
    "# Display statistics of battery placements\n",
    "time_diff.describe()"
   ]
  },
  {
   "cell_type": "markdown",
   "id": "fb0a5d4f",
   "metadata": {},
   "source": [
    "# Display Name"
   ]
  },
  {
   "cell_type": "code",
   "execution_count": 535,
   "id": "c10b4c41",
   "metadata": {},
   "outputs": [
    {
     "name": "stdout",
     "output_type": "stream",
     "text": [
      "Unique Display Names: 1\n",
      "Unique Display Name Counts: display_name\n",
      "eTag150E2    999999\n",
      "Name: count, dtype: int64\n"
     ]
    }
   ],
   "source": [
    "# Only 1 unique display name\n",
    "display_unique = df['display_name'].unique()\n",
    "print('Unique Display Names:', len(display_unique))\n",
    "\n",
    "display_counts = df['display_name'].value_counts()\n",
    "print('Unique Display Name Counts:', display_counts)"
   ]
  },
  {
   "cell_type": "markdown",
   "id": "4d754d02",
   "metadata": {},
   "source": [
    "# WDT State ID"
   ]
  },
  {
   "cell_type": "code",
   "execution_count": 536,
   "id": "06cb2e49",
   "metadata": {},
   "outputs": [
    {
     "name": "stdout",
     "output_type": "stream",
     "text": [
      "Unique WTD State IDs: 2\n",
      "Unique WTD State ID Counts: wdt_state_id\n",
      "3    755437\n",
      "1    244562\n",
      "Name: count, dtype: int64\n",
      "\n",
      "Proportion of WDT State ID of 3: 0.7554\n",
      "Proportion of WDT State ID of 1: 0.2446\n"
     ]
    }
   ],
   "source": [
    "# 2 unique states, could indicate on or off\n",
    "x = 755437/999999\n",
    "y = 244562/999999\n",
    "\n",
    "wdt_unique = df['wdt_state_id'].unique()\n",
    "print('Unique WTD State IDs:', len(wdt_unique))\n",
    "\n",
    "wdt_counts = df['wdt_state_id'].value_counts()\n",
    "print('Unique WTD State ID Counts:', wdt_counts)\n",
    "\n",
    "# WDT State ID Proportions\n",
    "print(f'\\nProportion of WDT State ID of 3: {x:.4f}')\n",
    "print(f'Proportion of WDT State ID of 1: {y:.4f}')"
   ]
  },
  {
   "cell_type": "markdown",
   "id": "4d3d3dd9",
   "metadata": {},
   "source": [
    "# Sensor Value"
   ]
  },
  {
   "cell_type": "code",
   "execution_count": 537,
   "id": "c5f80ecf",
   "metadata": {},
   "outputs": [
    {
     "data": {
      "text/plain": [
       "count    999999.000000\n",
       "mean        181.211208\n",
       "std           4.751103\n",
       "min          64.000000\n",
       "25%         181.000000\n",
       "50%         182.000000\n",
       "75%         183.000000\n",
       "max         255.000000\n",
       "Name: sensor_value, dtype: float64"
      ]
     },
     "execution_count": 537,
     "metadata": {},
     "output_type": "execute_result"
    }
   ],
   "source": [
    "# numerical column, looks normally distrubuted\n",
    "sensor_value = df['sensor_value']\n",
    "sensor_value.describe()"
   ]
  },
  {
   "cell_type": "code",
   "execution_count": 538,
   "id": "66fc0461",
   "metadata": {},
   "outputs": [
    {
     "data": {
      "image/png": "[encoded data removed]",
      "text/plain": [
       "<Figure size 600x400 with 1 Axes>"
      ]
     },
     "metadata": {},
     "output_type": "display_data"
    }
   ],
   "source": [
    "# histogram\n",
    "plt.figure(figsize=(6, 4))\n",
    "sns.histplot(data=df, x=sensor_value, bins=50)\n",
    "plt.title('Distrbution Sensor Value')\n",
    "plt.xlabel('Sensor Value')\n",
    "plt.ylabel('Frequency')\n",
    "plt.grid(True)\n",
    "plt.show()"
   ]
  },
  {
   "cell_type": "markdown",
   "id": "c8118084",
   "metadata": {},
   "source": [
    "# Voltage"
   ]
  },
  {
   "cell_type": "code",
   "execution_count": 539,
   "id": "34b2305c",
   "metadata": {
    "scrolled": false
   },
   "outputs": [
    {
     "data": {
      "text/plain": [
       "count    999999.000000\n",
       "mean          2.966106\n",
       "std           0.078868\n",
       "min           1.020400\n",
       "25%           2.962600\n",
       "50%           2.979200\n",
       "75%           2.995800\n",
       "max           4.191000\n",
       "Name: voltage, dtype: float64"
      ]
     },
     "execution_count": 539,
     "metadata": {},
     "output_type": "execute_result"
    }
   ],
   "source": [
    "# numerical column, looks normally distributed\n",
    "voltage = df['voltage']\n",
    "voltage.describe()"
   ]
  },
  {
   "cell_type": "code",
   "execution_count": 540,
   "id": "4e1570b6",
   "metadata": {},
   "outputs": [
    {
     "data": {
      "image/png": "[encoded data removed]",
      "text/plain": [
       "<Figure size 600x400 with 1 Axes>"
      ]
     },
     "metadata": {},
     "output_type": "display_data"
    }
   ],
   "source": [
    "# histogram\n",
    "plt.figure(figsize=(6, 4))\n",
    "sns.histplot(data=df, x=voltage, bins=50)\n",
    "plt.title('Distrbution of Voltage')\n",
    "plt.xlabel('Voltage')\n",
    "plt.ylabel('Frequency')\n",
    "plt.grid(True)\n",
    "plt.show()"
   ]
  },
  {
   "cell_type": "markdown",
   "id": "8556cb48",
   "metadata": {},
   "source": [
    "# Battery Capacity"
   ]
  },
  {
   "cell_type": "code",
   "execution_count": 541,
   "id": "81721352",
   "metadata": {},
   "outputs": [
    {
     "data": {
      "text/plain": [
       "count    999999.000000\n",
       "mean         65.802486\n",
       "std          18.354133\n",
       "min           0.000000\n",
       "25%          52.400000\n",
       "50%          67.500000\n",
       "75%          80.600000\n",
       "max        2474.600000\n",
       "Name: battery_capacity, dtype: float64"
      ]
     },
     "execution_count": 541,
     "metadata": {},
     "output_type": "execute_result"
    }
   ],
   "source": [
    "# numerical column, looks normally distributed\n",
    "df['battery_capacity'].describe()"
   ]
  },
  {
   "cell_type": "code",
   "execution_count": 542,
   "id": "fdb80a46",
   "metadata": {},
   "outputs": [
    {
     "data": {
      "text/plain": [
       "count    999994.000000\n",
       "mean         65.797179\n",
       "std          18.136711\n",
       "min           0.000000\n",
       "25%          52.400000\n",
       "50%          67.500000\n",
       "75%          80.600000\n",
       "max          98.300000\n",
       "Name: battery_capacity, dtype: float64"
      ]
     },
     "execution_count": 542,
     "metadata": {},
     "output_type": "execute_result"
    }
   ],
   "source": [
    "# There are some anomalous values, let us drop them with the assumption 100 is the max battery capacity, and check\n",
    "df.drop(df[df['battery_capacity'] >= 100].index, inplace=True)\n",
    "df['battery_capacity'].describe()"
   ]
  },
  {
   "cell_type": "code",
   "execution_count": 543,
   "id": "1c455506",
   "metadata": {},
   "outputs": [
    {
     "data": {
      "image/png": "[encoded data removed]",
      "text/plain": [
       "<Figure size 600x400 with 1 Axes>"
      ]
     },
     "metadata": {},
     "output_type": "display_data"
    }
   ],
   "source": [
    "# After cleaning, plot histogram\n",
    "plt.figure(figsize=(6, 4))\n",
    "sns.histplot(data=df, x=df['battery_capacity'], bins=50)\n",
    "plt.title('Distrbution of Battery Capacity')\n",
    "plt.xlabel('Battery Capacity')\n",
    "plt.ylabel('Frequency')\n",
    "plt.grid(True)\n",
    "plt.show()"
   ]
  },
  {
   "cell_type": "markdown",
   "id": "8e33dfbf",
   "metadata": {},
   "source": [
    "# Base Capacity"
   ]
  },
  {
   "cell_type": "code",
   "execution_count": 544,
   "id": "911f7cf3",
   "metadata": {},
   "outputs": [
    {
     "data": {
      "text/plain": [
       "count    999994.000000\n",
       "mean         65.797179\n",
       "std          18.136711\n",
       "min           0.000000\n",
       "25%          52.400000\n",
       "50%          67.500000\n",
       "75%          80.600000\n",
       "max          98.300000\n",
       "Name: base_capacity, dtype: float64"
      ]
     },
     "execution_count": 544,
     "metadata": {},
     "output_type": "execute_result"
    }
   ],
   "source": [
    "# numerical column, base capacity has exact same values as battery capacity, can ignore\n",
    "df['base_capacity'].describe()"
   ]
  },
  {
   "cell_type": "markdown",
   "id": "5be35f57",
   "metadata": {},
   "source": [
    "# Wakeup Counter"
   ]
  },
  {
   "cell_type": "code",
   "execution_count": 545,
   "id": "252de464",
   "metadata": {},
   "outputs": [
    {
     "data": {
      "text/plain": [
       "0         726797\n",
       "1         703520\n",
       "2         679991\n",
       "3         654601\n",
       "4         622145\n",
       "           ...  \n",
       "999994    422619\n",
       "999995    399038\n",
       "999996    376355\n",
       "999997    352497\n",
       "999998    329758\n",
       "Name: wakeup_counter, Length: 999994, dtype: int64"
      ]
     },
     "execution_count": 545,
     "metadata": {},
     "output_type": "execute_result"
    }
   ],
   "source": [
    "# This variable appears to label the amount of time that has passed since the previous wakeup call.\n",
    "# It acts as a running marker for this feature, so we must take statistics based on each total session.\n",
    "# We will reverse the column and mark when the number decreases to mark the end of 1 session.\n",
    "df['wakeup_counter']"
   ]
  },
  {
   "cell_type": "code",
   "execution_count": 546,
   "id": "2bd77574",
   "metadata": {},
   "outputs": [],
   "source": [
    "# Reverse the column\n",
    "df['wakeup_counter'] = np.flip(df['wakeup_counter'].values)"
   ]
  },
  {
   "cell_type": "code",
   "execution_count": 547,
   "id": "c3e2a79d",
   "metadata": {},
   "outputs": [
    {
     "data": {
      "text/plain": [
       "0         329758\n",
       "1         352497\n",
       "2         376355\n",
       "3         399038\n",
       "4         422619\n",
       "           ...  \n",
       "999994    622145\n",
       "999995    654601\n",
       "999996    679991\n",
       "999997    703520\n",
       "999998    726797\n",
       "Name: wakeup_counter, Length: 999994, dtype: int64"
      ]
     },
     "execution_count": 547,
     "metadata": {},
     "output_type": "execute_result"
    }
   ],
   "source": [
    "df['wakeup_counter']"
   ]
  },
  {
   "cell_type": "code",
   "execution_count": 548,
   "id": "efa60a8d",
   "metadata": {},
   "outputs": [
    {
     "name": "stdout",
     "output_type": "stream",
     "text": [
      "Amount of sessions: 14898\n"
     ]
    }
   ],
   "source": [
    "# Create a column that identifies when a session ends (when a number decreases)\n",
    "df['session_end'] = df['wakeup_counter'].diff().lt(0)\n",
    "df['session_end']\n",
    "\n",
    "# Filter the dataframe to find when session_end is True\n",
    "session_end_true = df[df['session_end'] == True]\n",
    "\n",
    "# Print amount of sessions\n",
    "print('Amount of sessions:', len(session_end_true))"
   ]
  },
  {
   "cell_type": "code",
   "execution_count": 549,
   "id": "8895d071",
   "metadata": {},
   "outputs": [
    {
     "data": {
      "text/plain": [
       "0             0\n",
       "1             0\n",
       "2             0\n",
       "3             0\n",
       "4             0\n",
       "          ...  \n",
       "999994    14898\n",
       "999995    14898\n",
       "999996    14898\n",
       "999997    14898\n",
       "999998    14898\n",
       "Name: session, Length: 999994, dtype: int32"
      ]
     },
     "execution_count": 549,
     "metadata": {},
     "output_type": "execute_result"
    }
   ],
   "source": [
    "# Create a session ID based on when the session ends\n",
    "df['session'] = df['session_end'].cumsum()\n",
    "df['session']"
   ]
  },
  {
   "cell_type": "code",
   "execution_count": 550,
   "id": "1c98e9ba",
   "metadata": {},
   "outputs": [],
   "source": [
    "# Drop the 'session_end' column\n",
    "df = df.drop(columns='session_end')"
   ]
  },
  {
   "cell_type": "code",
   "execution_count": 551,
   "id": "08f9a602",
   "metadata": {},
   "outputs": [
    {
     "name": "stdout",
     "output_type": "stream",
     "text": [
      "            min       max\n",
      "session                  \n",
      "0        329758   1493071\n",
      "1         22610    262317\n",
      "2         15526   2208799\n",
      "3         22311   2275734\n",
      "4         16305    611250\n",
      "...         ...       ...\n",
      "14894    316539  11404318\n",
      "14895     22226   1975236\n",
      "14896     22212    656727\n",
      "14897     19916   2808148\n",
      "14898    313056    726797\n",
      "\n",
      "[14899 rows x 2 columns]\n"
     ]
    }
   ],
   "source": [
    "# Group by the 'session' column and calculate the min and max for each session\n",
    "session_min_max = df.groupby('session')['wakeup_counter'].agg(['min', 'max'])\n",
    "\n",
    "# Display the result\n",
    "print(session_min_max)"
   ]
  },
  {
   "cell_type": "code",
   "execution_count": 552,
   "id": "e4f75b73",
   "metadata": {},
   "outputs": [
    {
     "name": "stdout",
     "output_type": "stream",
     "text": [
      "            min         max\n",
      "session                    \n",
      "6687      89375  4294967295\n",
      "12551     13602  4015062186\n",
      "3885      21185  3135259112\n",
      "14211    248574  3054266768\n",
      "10609      9703  3036871261\n",
      "13358     57041  2181577510\n",
      "9219      13435  1074896900\n",
      "11239     10064  1074896900\n",
      "3923      10118  1074896900\n",
      "4016      11987  1074896900\n",
      "5903      31409  1074896900\n",
      "7969      15819   738208087\n",
      "5234       7187   525998504\n",
      "8933      10623   316015528\n",
      "14529      9900   142988720\n",
      "484       11627    74067170\n",
      "6001      44645    32940574\n",
      "14456     12887    30036098\n",
      "4763      48513    24311082\n",
      "1944      14106    23923026\n"
     ]
    }
   ],
   "source": [
    "# Sort the sessions by the 'max' value in descending order and select the top 100\n",
    "top_sessions = session_min_max.sort_values(by='max', ascending=False).head(20)\n",
    "\n",
    "# Print the top sessions with their min and max values\n",
    "print(top_sessions)"
   ]
  },
  {
   "cell_type": "code",
   "execution_count": 553,
   "id": "db16bf2c",
   "metadata": {
    "scrolled": false
   },
   "outputs": [
    {
     "name": "stdout",
     "output_type": "stream",
     "text": [
      "     Session  Previous Value  Jumped Value   Interval  Next Value  \\\n",
      "0         15          358395      17429444  48.631940         NaN   \n",
      "1        152          552801       7838204  14.179070   8011353.0   \n",
      "2        302          108083       1097718  10.156250   1212964.0   \n",
      "3        484         2770232      74067170  26.736811         NaN   \n",
      "4        767          331893       4730739  14.253808   4756281.0   \n",
      "..       ...             ...           ...        ...         ...   \n",
      "176    14685          336781      10237584  30.398342  10261207.0   \n",
      "177    14692          414063       4917634  11.876536   4943441.0   \n",
      "178    14712          971170       9828509  10.120277   9876464.0   \n",
      "179    14727          721318       7947515  11.018046   7969996.0   \n",
      "180    14894          316539       6436074  20.332641   6865878.0   \n",
      "\n",
      "     Magnitude of Increase  \n",
      "0                      NaN  \n",
      "1                 1.022090  \n",
      "2                 1.104987  \n",
      "3                      NaN  \n",
      "4                 1.005399  \n",
      "..                     ...  \n",
      "176               1.002307  \n",
      "177               1.005248  \n",
      "178               1.004879  \n",
      "179               1.002829  \n",
      "180               1.066780  \n",
      "\n",
      "[181 rows x 6 columns]\n"
     ]
    }
   ],
   "source": [
    "# It is very difficult to determine which values of wakeup counter are extraneous, so we implement some measures \n",
    "# to call out when the interval between two numbers when increasing is more than a factor of 10.\n",
    "# Furthermore, we only check for numbers that are 6 or more digits, as going from 5 to 6 digits is still plausible.\n",
    "# We then check the interval between the jumped number and the next to determine if it is a plausible reading or a mistake.\n",
    "\n",
    "# Initialize list to store results\n",
    "jumped_values = []\n",
    "\n",
    "# Iterate through the dataframe to check for jumps greater than 10 times in increasing values\n",
    "for i in range(1, len(df)-1):  # len(df)-1 to avoid IndexError when checking the next value\n",
    "    # Check if the current value is more than 10 times the previous value\n",
    "    if df['wakeup_counter'].iloc[i] > 10 * df['wakeup_counter'].iloc[i-1]:\n",
    "        # Only consider the jump when the value is increasing and the previous value has 6 digits\n",
    "        if df['wakeup_counter'].iloc[i] > df['wakeup_counter'].iloc[i-1] and len(str(df['wakeup_counter'].iloc[i-1])) >= 6:\n",
    "            session_number = df['session'].iloc[i]\n",
    "            previous_value = df['wakeup_counter'].iloc[i-1]\n",
    "            current_value = df['wakeup_counter'].iloc[i]\n",
    "            \n",
    "            # Calculate the interval (difference) between the previous value and the current jumped value\n",
    "            interval = current_value / previous_value\n",
    "\n",
    "            # Get the next value (after the jumped value)\n",
    "            next_value = df['wakeup_counter'].iloc[i+1]\n",
    "\n",
    "            # Check if the next value increases\n",
    "            if next_value > current_value:\n",
    "                magnitude_increase = next_value / current_value  # Calculate the magnitude of increase\n",
    "                jumped_values.append((session_number, previous_value, current_value, interval, next_value, magnitude_increase))\n",
    "            else:\n",
    "                jumped_values.append((session_number, previous_value, current_value, interval, None, None))\n",
    "\n",
    "# Create a DataFrame from the results for better readability\n",
    "jumped_values_df = pd.DataFrame(jumped_values, columns=[\"Session\", \"Previous Value\", \"Jumped Value\", \"Interval\", \"Next Value\", \"Magnitude of Increase\"])\n",
    "\n",
    "# Print the results neatly in a table\n",
    "print(jumped_values_df)"
   ]
  },
  {
   "cell_type": "markdown",
   "id": "b93c377f",
   "metadata": {},
   "source": [
    "# Filtering out likely extraneous values from Wakeup Counter"
   ]
  },
  {
   "cell_type": "markdown",
   "id": "c7526a89",
   "metadata": {},
   "source": [
    "1. Find the values that only jump with a magnitude of 10 amongst 6 digit numbers that do not have a following number."
   ]
  },
  {
   "cell_type": "code",
   "execution_count": 554,
   "id": "da97c802",
   "metadata": {},
   "outputs": [
    {
     "name": "stdout",
     "output_type": "stream",
     "text": [
      "     Session  Previous Value  Jumped Value     Interval  Next Value  \\\n",
      "92      9219          140000    1074896900  7677.835000         NaN   \n",
      "122    11239          150775    1074896900  7129.145415         NaN   \n",
      "27      3923          207065    1074896900  5191.108589         NaN   \n",
      "51      5234          201473     525998504  2610.764241         NaN   \n",
      "67      6687         1666550    4294967295  2577.160778         NaN   \n",
      "144    12551         1630726    4015062186  2462.131705         NaN   \n",
      "87      8933          145635     316015528  2169.914705         NaN   \n",
      "114    10609         1659728    3036871261  1829.740332         NaN   \n",
      "170    14211         3019969    3054266768  1011.356993         NaN   \n",
      "26      3885         3415010    3135259112   918.081971         NaN   \n",
      "175    14529          283416     142988720   504.518870         NaN   \n",
      "55      5903         2811769    1074896900   382.284925         NaN   \n",
      "73      7969         2968469     738208087   248.683105         NaN   \n",
      "0         15          358395      17429444    48.631940         NaN   \n",
      "138    12307          102301       4283686    41.873354         NaN   \n",
      "58      6001         1108456      32940574    29.717530         NaN   \n",
      "3        484         2770232      74067170    26.736811         NaN   \n",
      "53      5601          157841       4044908    25.626472         NaN   \n",
      "112    10544          380384       9080125    23.870944         NaN   \n",
      "76      8082          648434      14120256    21.775934         NaN   \n",
      "159    13830          337342       6561676    19.451109         NaN   \n",
      "131    12005          285319       2942552    10.313200         NaN   \n",
      "\n",
      "     Magnitude of Increase  \n",
      "92                     NaN  \n",
      "122                    NaN  \n",
      "27                     NaN  \n",
      "51                     NaN  \n",
      "67                     NaN  \n",
      "144                    NaN  \n",
      "87                     NaN  \n",
      "114                    NaN  \n",
      "170                    NaN  \n",
      "26                     NaN  \n",
      "175                    NaN  \n",
      "55                     NaN  \n",
      "73                     NaN  \n",
      "0                      NaN  \n",
      "138                    NaN  \n",
      "58                     NaN  \n",
      "3                      NaN  \n",
      "53                     NaN  \n",
      "112                    NaN  \n",
      "76                     NaN  \n",
      "159                    NaN  \n",
      "131                    NaN  \n"
     ]
    }
   ],
   "source": [
    "# check which sessions have a next value of NaN to show that it is likely not a mistake\n",
    "jumped_values_df_nan = jumped_values_df[jumped_values_df[\"Next Value\"].isna()]\n",
    "\n",
    "# sort by interval to check how anomalous they are\n",
    "jumped_values_df_nan_sorted = jumped_values_df_nan.sort_values(by=\"Interval\", ascending=False)\n",
    "\n",
    "# these values are all likely to be mistakes, we will judge which values are to be dropped or kept\n",
    "print(jumped_values_df_nan_sorted)\n",
    "\n",
    "# we will likely drop all values here"
   ]
  },
  {
   "cell_type": "code",
   "execution_count": 555,
   "id": "6a77213f",
   "metadata": {},
   "outputs": [
    {
     "name": "stdout",
     "output_type": "stream",
     "text": [
      "[1074896900, 1074896900, 1074896900, 525998504, 4294967295, 4015062186, 316015528, 3036871261, 3054266768, 3135259112, 142988720, 1074896900, 738208087, 17429444, 4283686, 32940574, 74067170, 4044908, 9080125, 14120256, 6561676, 2942552]\n"
     ]
    }
   ],
   "source": [
    "# Get the list of \"Jumped Value\" to drop\n",
    "values_to_drop = jumped_values_df_nan_sorted[\"Jumped Value\"].tolist()\n",
    "print(values_to_drop)"
   ]
  },
  {
   "cell_type": "code",
   "execution_count": 556,
   "id": "5a0e0b1b",
   "metadata": {},
   "outputs": [
    {
     "name": "stdout",
     "output_type": "stream",
     "text": [
      "        factory_id  tag_type_code battery_replace_date display_name  \\\n",
      "0           196608            208  2018-03-28 01:00:00    eTag150E2   \n",
      "1           196608            208  2018-03-28 01:00:00    eTag150E2   \n",
      "2           196608            208  2018-03-28 01:00:00    eTag150E2   \n",
      "3         71269681            208  2017-11-09 00:00:00    eTag150E2   \n",
      "4         71269681            208  2017-11-09 00:00:00    eTag150E2   \n",
      "...            ...            ...                  ...          ...   \n",
      "999994    72638481            208  2018-05-19 01:00:00    eTag150E2   \n",
      "999995    72638481            208  2018-05-19 01:00:00    eTag150E2   \n",
      "999996    72638481            208  2018-05-19 01:00:00    eTag150E2   \n",
      "999997    72638481            208  2018-05-19 01:00:00    eTag150E2   \n",
      "999998    72638481            208  2018-05-19 01:00:00    eTag150E2   \n",
      "\n",
      "        wdt_state_id  sensor_value  voltage  battery_capacity  base_capacity  \\\n",
      "0                  1           184   3.0124              84.4           84.4   \n",
      "1                  1           181   2.9626              85.0           85.0   \n",
      "2                  1           183   2.9958              85.5           85.5   \n",
      "3                  3           186   3.0456              32.3           32.3   \n",
      "4                  3           186   3.0456              32.9           32.9   \n",
      "...              ...           ...      ...               ...            ...   \n",
      "999994             3           181   2.9626              78.0           78.0   \n",
      "999995             3           181   2.9626              78.6           78.6   \n",
      "999996             3           180   2.9460              79.1           79.1   \n",
      "999997             3           180   2.9460              79.6           79.6   \n",
      "999998             3           181   2.9626              80.1           80.1   \n",
      "\n",
      "        wakeup_counter  firmware_version           read_date  render_counter  \\\n",
      "0               329758                26 2018-11-23 12:01:49              21   \n",
      "1               352497                26 2018-11-15 12:02:36              21   \n",
      "2               376355                26 2018-11-07 12:02:12              21   \n",
      "3               399038                26 2021-01-31 12:03:59              84   \n",
      "4               422619                26 2021-01-22 12:03:00              84   \n",
      "...                ...               ...                 ...             ...   \n",
      "999994          622145                26 2019-05-25 12:02:26               7   \n",
      "999995          654601                26 2019-05-17 12:03:16               7   \n",
      "999996          679991                26 2019-05-09 12:03:03               7   \n",
      "999997          703520                26 2019-05-01 12:02:30               6   \n",
      "999998          726797                26 2019-04-23 12:02:38               6   \n",
      "\n",
      "        session  \n",
      "0             0  \n",
      "1             0  \n",
      "2             0  \n",
      "3             0  \n",
      "4             0  \n",
      "...         ...  \n",
      "999994    14898  \n",
      "999995    14898  \n",
      "999996    14898  \n",
      "999997    14898  \n",
      "999998    14898  \n",
      "\n",
      "[999914 rows x 14 columns]\n"
     ]
    }
   ],
   "source": [
    "# Drop the rows from the original DataFrame where wakeup_counter matches any of the jumped values\n",
    "df = df[~df['wakeup_counter'].isin(values_to_drop)]\n",
    "\n",
    "# Print the cleaned DataFrame\n",
    "print(df)"
   ]
  },
  {
   "cell_type": "code",
   "execution_count": 557,
   "id": "d19f3f69",
   "metadata": {},
   "outputs": [
    {
     "data": {
      "text/plain": [
       "2181577510"
      ]
     },
     "execution_count": 557,
     "metadata": {},
     "output_type": "execute_result"
    }
   ],
   "source": [
    "df['wakeup_counter'].max()"
   ]
  },
  {
   "cell_type": "markdown",
   "id": "a98eb900",
   "metadata": {},
   "source": [
    "2. Find all values where there exists a next value but sort by interval between one value and the 10x jumped value to find if the anomalous number continues to be anomalous."
   ]
  },
  {
   "cell_type": "code",
   "execution_count": 558,
   "id": "4fbaf5f4",
   "metadata": {},
   "outputs": [
    {
     "name": "stdout",
     "output_type": "stream",
     "text": [
      "     Session  Previous Value  Jumped Value     Interval    Next Value  \\\n",
      "154    13358         1775930    2181065498  1228.125826  2.181088e+09   \n",
      "172    14401          128306       6456964    50.324724  6.485787e+06   \n",
      "119    11027          266064      12209285    45.888527  1.223378e+07   \n",
      "174    14456          788430      29549686    37.479150  2.957698e+07   \n",
      "168    14154          267325       9568562    35.793742  9.591411e+06   \n",
      "..       ...             ...           ...          ...           ...   \n",
      "59      6091          384714       3905335    10.151268  3.928585e+06   \n",
      "22      2682          370438       3751954    10.128426  3.775003e+06   \n",
      "178    14712          971170       9828509    10.120277  9.876464e+06   \n",
      "139    12374          200606       2022143    10.080172  2.047426e+06   \n",
      "30      4113          248185       2498841    10.068461  2.672008e+06   \n",
      "\n",
      "     Magnitude of Increase  \n",
      "154               1.000010  \n",
      "172               1.004464  \n",
      "119               1.002006  \n",
      "174               1.000924  \n",
      "168               1.002388  \n",
      "..                     ...  \n",
      "59                1.005953  \n",
      "22                1.006143  \n",
      "178               1.004879  \n",
      "139               1.012503  \n",
      "30                1.069299  \n",
      "\n",
      "[159 rows x 6 columns]\n",
      "57041\n",
      "112455\n",
      "136035\n",
      "159116\n",
      "182537\n",
      "205143\n",
      "259708\n",
      "285300\n",
      "307910\n",
      "330602\n",
      "354276\n",
      "402642\n",
      "425973\n",
      "448876\n",
      "497035\n",
      "519909\n",
      "543021\n",
      "568071\n",
      "592453\n",
      "615248\n",
      "637834\n",
      "660577\n",
      "688707\n",
      "714542\n",
      "739084\n",
      "764443\n",
      "791598\n",
      "819932\n",
      "843464\n",
      "866880\n",
      "890871\n",
      "916479\n",
      "942146\n",
      "969143\n",
      "994980\n",
      "1025810\n",
      "1049999\n",
      "1076446\n",
      "1104733\n",
      "1132111\n",
      "1159800\n",
      "1185719\n",
      "1210761\n",
      "1237878\n",
      "1262810\n",
      "1289179\n",
      "1314579\n",
      "1341072\n",
      "1365625\n",
      "1394346\n",
      "1423483\n",
      "1451691\n",
      "1478913\n",
      "1508312\n",
      "1533678\n",
      "1561394\n",
      "1590025\n",
      "1613580\n",
      "1639045\n",
      "1666925\n",
      "1695621\n",
      "1722283\n",
      "1748586\n",
      "1775930\n",
      "2181065498\n",
      "2181087615\n",
      "2181109659\n",
      "2181131751\n",
      "2181153401\n",
      "2181175396\n",
      "2181197478\n",
      "2181219508\n",
      "2181241360\n",
      "2181263448\n",
      "2181285087\n",
      "2181306538\n",
      "2181327790\n",
      "2181349138\n",
      "2181370821\n",
      "2181392341\n",
      "2181413926\n",
      "2181435574\n",
      "2181457438\n",
      "2181481481\n",
      "2181504558\n",
      "2181528308\n",
      "2181553660\n",
      "2181577510\n"
     ]
    }
   ],
   "source": [
    "# find numbers where next value is not NaN\n",
    "jumped_values_df_non_nan = jumped_values_df[jumped_values_df[\"Next Value\"].notna()]\n",
    "\n",
    "# sort by interval to find anomalous jumped values\n",
    "jumped_values_df_non_nan_sorted = jumped_values_df_non_nan.sort_values(by=\"Interval\", ascending=False)\n",
    "\n",
    "# it appears that only session 13358 contains continued anomalous numbers\n",
    "print(jumped_values_df_non_nan_sorted)\n",
    "\n",
    "# we will likely only drop the value from session 13358, as its jumped value is too large to be plausible\n",
    "session_number = 13358\n",
    "session_values = df[df['session'] == session_number]['wakeup_counter']\n",
    "\n",
    "# Print the values\n",
    "for i in session_values:\n",
    "    print(i)"
   ]
  },
  {
   "cell_type": "code",
   "execution_count": 559,
   "id": "bfac6259",
   "metadata": {},
   "outputs": [
    {
     "name": "stdout",
     "output_type": "stream",
     "text": [
      "        factory_id  tag_type_code battery_replace_date display_name  \\\n",
      "0           196608            208  2018-03-28 01:00:00    eTag150E2   \n",
      "1           196608            208  2018-03-28 01:00:00    eTag150E2   \n",
      "2           196608            208  2018-03-28 01:00:00    eTag150E2   \n",
      "3         71269681            208  2017-11-09 00:00:00    eTag150E2   \n",
      "4         71269681            208  2017-11-09 00:00:00    eTag150E2   \n",
      "...            ...            ...                  ...          ...   \n",
      "999994    72638481            208  2018-05-19 01:00:00    eTag150E2   \n",
      "999995    72638481            208  2018-05-19 01:00:00    eTag150E2   \n",
      "999996    72638481            208  2018-05-19 01:00:00    eTag150E2   \n",
      "999997    72638481            208  2018-05-19 01:00:00    eTag150E2   \n",
      "999998    72638481            208  2018-05-19 01:00:00    eTag150E2   \n",
      "\n",
      "        wdt_state_id  sensor_value  voltage  battery_capacity  base_capacity  \\\n",
      "0                  1           184   3.0124              84.4           84.4   \n",
      "1                  1           181   2.9626              85.0           85.0   \n",
      "2                  1           183   2.9958              85.5           85.5   \n",
      "3                  3           186   3.0456              32.3           32.3   \n",
      "4                  3           186   3.0456              32.9           32.9   \n",
      "...              ...           ...      ...               ...            ...   \n",
      "999994             3           181   2.9626              78.0           78.0   \n",
      "999995             3           181   2.9626              78.6           78.6   \n",
      "999996             3           180   2.9460              79.1           79.1   \n",
      "999997             3           180   2.9460              79.6           79.6   \n",
      "999998             3           181   2.9626              80.1           80.1   \n",
      "\n",
      "        wakeup_counter  firmware_version           read_date  render_counter  \\\n",
      "0               329758                26 2018-11-23 12:01:49              21   \n",
      "1               352497                26 2018-11-15 12:02:36              21   \n",
      "2               376355                26 2018-11-07 12:02:12              21   \n",
      "3               399038                26 2021-01-31 12:03:59              84   \n",
      "4               422619                26 2021-01-22 12:03:00              84   \n",
      "...                ...               ...                 ...             ...   \n",
      "999994          622145                26 2019-05-25 12:02:26               7   \n",
      "999995          654601                26 2019-05-17 12:03:16               7   \n",
      "999996          679991                26 2019-05-09 12:03:03               7   \n",
      "999997          703520                26 2019-05-01 12:02:30               6   \n",
      "999998          726797                26 2019-04-23 12:02:38               6   \n",
      "\n",
      "        session  \n",
      "0             0  \n",
      "1             0  \n",
      "2             0  \n",
      "3             0  \n",
      "4             0  \n",
      "...         ...  \n",
      "999994    14898  \n",
      "999995    14898  \n",
      "999996    14898  \n",
      "999997    14898  \n",
      "999998    14898  \n",
      "\n",
      "[999890 rows x 14 columns]\n"
     ]
    }
   ],
   "source": [
    "# Identify the jumped value and its index in session 13358\n",
    "jumped_value_13358 = jumped_values_df_non_nan_sorted.loc[jumped_values_df_non_nan_sorted['Session'] == 13358, 'Jumped Value'].iloc[0]\n",
    "\n",
    "# Get the index of the first jumped value in session 13358\n",
    "start_index = df[(df['session'] == 13358) & (df['wakeup_counter'] == jumped_value_13358)].index[0]\n",
    "\n",
    "# Find the index of the next session (to determine where session 13358 ends)\n",
    "next_session_index = df[df['session'] > 13358].index.min()\n",
    "\n",
    "# Drop the range of rows from the DataFrame\n",
    "if next_session_index:\n",
    "    df = df.drop(index=range(start_index, next_session_index))\n",
    "else:\n",
    "    df = df.drop(index=range(start_index, len(df)))  # Drop till the end if no next session\n",
    "\n",
    "# Print the cleaned DataFrame\n",
    "print(df)"
   ]
  },
  {
   "cell_type": "code",
   "execution_count": 560,
   "id": "029eb900",
   "metadata": {},
   "outputs": [
    {
     "data": {
      "text/plain": [
       "30036098"
      ]
     },
     "execution_count": 560,
     "metadata": {},
     "output_type": "execute_result"
    }
   ],
   "source": [
    "df['wakeup_counter'].max()"
   ]
  },
  {
   "cell_type": "markdown",
   "id": "5a3c2687",
   "metadata": {},
   "source": [
    "Visualize anomalous sessions"
   ]
  },
  {
   "cell_type": "markdown",
   "id": "8d7e67ea",
   "metadata": {},
   "source": [
    "3. Check the magnitude of the the jumped number and the following numbers to ensure they are consistent to denote plausibility"
   ]
  },
  {
   "cell_type": "code",
   "execution_count": 561,
   "id": "4cdbe204",
   "metadata": {},
   "outputs": [
    {
     "name": "stdout",
     "output_type": "stream",
     "text": [
      "     Session  Previous Value  Jumped Value     Interval    Next Value  \\\n",
      "151    13006          338643       4302179    12.704172  7.173942e+06   \n",
      "7       1134          178274       2200036    12.340756  3.619663e+06   \n",
      "10      1560          368734       5357243    14.528747  7.648416e+06   \n",
      "158    13749          243933       4730356    19.392030  5.421644e+06   \n",
      "2        302          108083       1097718    10.156250  1.212964e+06   \n",
      "..       ...             ...           ...          ...           ...   \n",
      "132    12020         1044097      19844163    19.006053  1.986899e+07   \n",
      "40      4763         1133011      24285387    21.434379  2.431108e+07   \n",
      "14      2341          307247       5665090    18.438227  5.670951e+06   \n",
      "174    14456          788430      29549686    37.479150  2.957698e+07   \n",
      "154    13358         1775930    2181065498  1228.125826  2.181088e+09   \n",
      "\n",
      "     Magnitude of Increase  \n",
      "151               1.667514  \n",
      "7                 1.645274  \n",
      "10                1.427678  \n",
      "158               1.146139  \n",
      "2                 1.104987  \n",
      "..                     ...  \n",
      "132               1.001251  \n",
      "40                1.001058  \n",
      "14                1.001035  \n",
      "174               1.000924  \n",
      "154               1.000010  \n",
      "\n",
      "[159 rows x 6 columns]\n"
     ]
    }
   ],
   "source": [
    "# Sort by magnitude of increase where next value is not NaN, ordered from largest to smallest\n",
    "jumped_values_df_non_nan_sorted_by_magnitude = jumped_values_df_non_nan_sorted.sort_values(by=\"Magnitude of Increase\", ascending=False)\n",
    "\n",
    "# Print the results\n",
    "print(jumped_values_df_non_nan_sorted_by_magnitude)\n",
    "\n",
    "# We can see that the magnitude of increase is not anomalous amongst the values that\n",
    "# have a next value, so none of the values here will be dropped."
   ]
  },
  {
   "cell_type": "code",
   "execution_count": 562,
   "id": "2dc67e8e",
   "metadata": {},
   "outputs": [
    {
     "data": {
      "text/plain": [
       "0         329758\n",
       "1         352497\n",
       "2         376355\n",
       "3         399038\n",
       "4         422619\n",
       "           ...  \n",
       "999994    622145\n",
       "999995    654601\n",
       "999996    679991\n",
       "999997    703520\n",
       "999998    726797\n",
       "Name: wakeup_counter, Length: 999890, dtype: int64"
      ]
     },
     "execution_count": 562,
     "metadata": {},
     "output_type": "execute_result"
    }
   ],
   "source": [
    "# Since we dropped most of the anomalous values, we will recategorize the wakeup_counter sessions and analyze it.\n",
    "df['wakeup_counter'].dropna()"
   ]
  },
  {
   "cell_type": "code",
   "execution_count": 563,
   "id": "e4906d20",
   "metadata": {},
   "outputs": [
    {
     "name": "stdout",
     "output_type": "stream",
     "text": [
      "Amount of sessions: 14885\n"
     ]
    }
   ],
   "source": [
    "# Create a column that identifies when a session ends (when a number decreases)\n",
    "df['session_end'] = df['wakeup_counter'].diff().lt(0)\n",
    "df['session_end']\n",
    "\n",
    "# Filter the dataframe to find when session_end is True\n",
    "session_end_true = df[df['session_end'] == True]\n",
    "\n",
    "# Print amount of sessions\n",
    "print('Amount of sessions:', len(session_end_true))"
   ]
  },
  {
   "cell_type": "code",
   "execution_count": 564,
   "id": "8c6eaf73",
   "metadata": {},
   "outputs": [
    {
     "data": {
      "text/plain": [
       "0             0\n",
       "1             0\n",
       "2             0\n",
       "3             0\n",
       "4             0\n",
       "          ...  \n",
       "999994    14885\n",
       "999995    14885\n",
       "999996    14885\n",
       "999997    14885\n",
       "999998    14885\n",
       "Name: session, Length: 999890, dtype: int32"
      ]
     },
     "execution_count": 564,
     "metadata": {},
     "output_type": "execute_result"
    }
   ],
   "source": [
    "# Create a session ID based on when the session ends\n",
    "df['session'] = df['session_end'].cumsum()\n",
    "df['session']"
   ]
  },
  {
   "cell_type": "code",
   "execution_count": 565,
   "id": "b18de60b",
   "metadata": {},
   "outputs": [],
   "source": [
    "# Drop 'session_end' column and reset the index\n",
    "df = df.drop(columns='session_end')"
   ]
  },
  {
   "cell_type": "code",
   "execution_count": 566,
   "id": "112a462f",
   "metadata": {},
   "outputs": [
    {
     "name": "stdout",
     "output_type": "stream",
     "text": [
      "            min       max\n",
      "session                  \n",
      "0        329758   1493071\n",
      "1         22610    262317\n",
      "2         15526   2208799\n",
      "3         22311   2275734\n",
      "4         16305    611250\n",
      "...         ...       ...\n",
      "14881    316539  11404318\n",
      "14882     22226   1975236\n",
      "14883     22212    656727\n",
      "14884     19916   2808148\n",
      "14885    313056    726797\n",
      "\n",
      "[14886 rows x 2 columns]\n"
     ]
    }
   ],
   "source": [
    "# Group by the 'session' column and calculate the min and max for each session\n",
    "session_min_max = df.groupby('session')['wakeup_counter'].agg(['min', 'max'])\n",
    "\n",
    "# Display the result\n",
    "print(session_min_max)"
   ]
  },
  {
   "cell_type": "code",
   "execution_count": 567,
   "id": "5d04d115",
   "metadata": {},
   "outputs": [
    {
     "name": "stdout",
     "output_type": "stream",
     "text": [
      "            min       max\n",
      "session                  \n",
      "14444     12887  30036098\n",
      "4761      48513  24311082\n",
      "1943      14106  23923026\n",
      "14009     10458  21690020\n",
      "6872      14138  20674674\n",
      "12010      7457  20353550\n",
      "10598     15199  19897071\n",
      "9975      42259  19373926\n",
      "13066     36674  19185992\n",
      "8105       8735  19135970\n",
      "7850     123030  18317115\n",
      "1084      14032  17833622\n",
      "8048      44428  17028841\n",
      "13986     17122  16697712\n",
      "8673       7399  16493716\n",
      "4577      19427  16167821\n",
      "5262      19385  16027740\n",
      "10035     10044  15837768\n",
      "3879     152326  15324195\n",
      "6630     187856  15293279\n"
     ]
    }
   ],
   "source": [
    "# Sort the sessions by the 'max' value in descending order and select the top 20\n",
    "top_sessions = session_min_max.sort_values(by='max', ascending=False).head(20)\n",
    "\n",
    "# Print the top sessions with their min and max values\n",
    "print(top_sessions)\n",
    "\n",
    "# the wakeup_counter may refer to a time unit, but we lack information just from this variable alone"
   ]
  },
  {
   "cell_type": "markdown",
   "id": "e824286b",
   "metadata": {},
   "source": [
    "# Firmware Version"
   ]
  },
  {
   "cell_type": "code",
   "execution_count": 606,
   "id": "331ebe23",
   "metadata": {},
   "outputs": [
    {
     "name": "stdout",
     "output_type": "stream",
     "text": [
      "Unique Firmware Versions: 16\n",
      "firmware_version\n",
      "26            988839\n",
      "24              6022\n",
      "0               2398\n",
      "1107            1543\n",
      "21               162\n",
      "1515870810       126\n",
      "83887187         121\n",
      "55               114\n",
      "23               113\n",
      "1108             111\n",
      "1101              92\n",
      "1025              62\n",
      "15                55\n",
      "1115              55\n",
      "83887188          43\n",
      "85                34\n",
      "Name: count, dtype: int64\n"
     ]
    }
   ],
   "source": [
    "# also more categorical\n",
    "firmware = df['firmware_version'].unique()\n",
    "print('Unique Firmware Versions:', len(firmware))\n",
    "\n",
    "# how many times each firmware version had readings\n",
    "print(df['firmware_version'].value_counts())"
   ]
  },
  {
   "cell_type": "markdown",
   "id": "467b956c",
   "metadata": {},
   "source": [
    "# Read Date"
   ]
  },
  {
   "cell_type": "code",
   "execution_count": 608,
   "id": "e18f391f",
   "metadata": {},
   "outputs": [
    {
     "name": "stdout",
     "output_type": "stream",
     "text": [
      "Read Date Range: 2018-06-12 12:01:08 to 2021-02-04 12:09:04\n",
      "       session        date_range\n",
      "9743      9743 964 days 00:01:50\n",
      "4315      4315 963 days 23:59:33\n",
      "5350      5350 963 days 23:59:10\n",
      "4766      4766 963 days 23:55:44\n",
      "4195      4195 962 days 23:58:39\n",
      "...        ...               ...\n",
      "13117    13117   0 days 00:00:00\n",
      "8607      8607   0 days 00:00:00\n",
      "6028      6028   0 days 00:00:00\n",
      "1539      1539   0 days 00:00:00\n",
      "5600      5600   0 days 00:00:00\n",
      "\n",
      "[14886 rows x 2 columns]\n"
     ]
    }
   ],
   "source": [
    "# the time the data entry was initialized\n",
    "read_date = df['read_date']\n",
    "print('Read Date Range:', read_date.min(), 'to', read_date.max())\n",
    "\n",
    "# we can take each session as found in the wakeup_counter section and examine the read dates of each session\n",
    "# since the wake_up counters and session features are reversed, we much reverse read date too\n",
    "df['read_date'] = np.flip(df['read_date'].values)\n",
    "df['read_date']"
   ]
  },
  {
   "cell_type": "code",
   "execution_count": 637,
   "id": "6e1e7b84",
   "metadata": {},
   "outputs": [
    {
     "name": "stdout",
     "output_type": "stream",
     "text": [
      "900400   2018-07-16 12:01:28\n",
      "900401   2018-07-24 12:01:37\n",
      "900402   2018-08-01 12:01:56\n",
      "900403   2018-08-09 12:01:10\n",
      "900404   2018-08-17 12:02:57\n",
      "900405   2018-08-25 12:01:54\n",
      "900406   2018-09-10 12:04:53\n",
      "900407   2018-09-18 12:01:02\n",
      "900408   2018-09-26 12:03:21\n",
      "900409   2018-10-04 12:01:46\n",
      "Name: read_date, dtype: datetime64[ns]\n"
     ]
    }
   ],
   "source": [
    "# session 0 read dates\n",
    "session_0_dates = df[df['session'] == 13358]['read_date'].head(10)\n",
    "print(session_0_dates)\n",
    "\n",
    "# We see that intervals between read dates of session 0 vary by days at a time.\n",
    "# After some inspection of the data, there are some anomalies with read date as well\n",
    "# where some read dates are beyond the scope of the more common read dates.\n",
    "# I'm not quite sure how to fix that."
   ]
  },
  {
   "cell_type": "markdown",
   "id": "c204ee44",
   "metadata": {},
   "source": [
    "# Render Counter"
   ]
  },
  {
   "cell_type": "code",
   "execution_count": 641,
   "id": "bce84698",
   "metadata": {},
   "outputs": [
    {
     "data": {
      "text/plain": [
       "0         21\n",
       "1         21\n",
       "2         21\n",
       "3         84\n",
       "4         84\n",
       "          ..\n",
       "999994     7\n",
       "999995     7\n",
       "999996     7\n",
       "999997     6\n",
       "999998     6\n",
       "Name: render_counter, Length: 999890, dtype: int64"
      ]
     },
     "execution_count": 641,
     "metadata": {},
     "output_type": "execute_result"
    }
   ],
   "source": [
    "# Render Counter is also unique in the way that it is similar to wakeup counter.\n",
    "# Therefore, we can apply a similar approach.\n",
    "df['render_counter']"
   ]
  },
  {
   "cell_type": "code",
   "execution_count": 642,
   "id": "93fcf879",
   "metadata": {},
   "outputs": [
    {
     "data": {
      "text/plain": [
       "0          6\n",
       "1          6\n",
       "2          7\n",
       "3          7\n",
       "4          7\n",
       "          ..\n",
       "999994    84\n",
       "999995    84\n",
       "999996    21\n",
       "999997    21\n",
       "999998    21\n",
       "Name: render_counter, Length: 999890, dtype: int64"
      ]
     },
     "execution_count": 642,
     "metadata": {},
     "output_type": "execute_result"
    }
   ],
   "source": [
    "# reverse render counter to match with wakeup counter and the sessions\n",
    "df['render_counter'] = np.flip(df['render_counter'].values)\n",
    "df['render_counter']"
   ]
  },
  {
   "cell_type": "code",
   "execution_count": 651,
   "id": "9ffa8b0e",
   "metadata": {},
   "outputs": [
    {
     "name": "stdout",
     "output_type": "stream",
     "text": [
      "Render Counter Range: 4294967295\n"
     ]
    },
    {
     "data": {
      "text/plain": [
       "array([4294967295, 4292893274, 4292870225, 4292870200, 4292870184,\n",
       "       4292870167, 4292870164, 4292870160, 4292870149, 3105593063,\n",
       "       1515870810, 1075843076,  315753387,   83886122,   83886121,\n",
       "         83886116,   83886111,   83886109,   83886108,   83886104,\n",
       "         83886103,   83886100,   67698917,   16711887,   16711885,\n",
       "          1114166,      46586,      33837,      21056,       1624,\n",
       "              731,        730], dtype=int64)"
      ]
     },
     "execution_count": 651,
     "metadata": {},
     "output_type": "execute_result"
    }
   ],
   "source": [
    "render_counter = df['render_counter']\n",
    "render_range = render_counter.max() - render_counter.min() \n",
    "print('Render Counter Range:', render_range)\n",
    "\n",
    "# The range seems to output some anomalous numbers, so we must clean it.\n",
    "render_counter.nlargest(150).unique()"
   ]
  },
  {
   "cell_type": "code",
   "execution_count": null,
   "id": "7205beff",
   "metadata": {},
   "outputs": [],
   "source": [
    "# Here I notice that each session should actually be defined when both wakeup counter and render counter reset\n",
    "# so later, I will align the sessions to be counted in such a way. "
   ]
  },
  {
   "cell_type": "code",
   "execution_count": 660,
   "id": "1985424f",
   "metadata": {},
   "outputs": [
    {
     "name": "stdout",
     "output_type": "stream",
     "text": [
      "        session  render_counter\n",
      "41307       555      4294967295\n",
      "41308       555      4294967295\n",
      "41309       555      4294967295\n",
      "41310       555      4294967295\n",
      "41311       555      4294967295\n",
      "...         ...             ...\n",
      "443337     6128        83886122\n",
      "443338     6128        83886122\n",
      "443339     6128        83886122\n",
      "443340     6128        83886122\n",
      "443341     6128        83886122\n",
      "\n",
      "[100 rows x 2 columns]\n"
     ]
    }
   ],
   "source": [
    "# Find the top 100 render counter values\n",
    "top_100_render_counter = df.nlargest(100, 'render_counter')\n",
    "\n",
    "# Get the unique sessions corresponding to these top render counter values\n",
    "top_100_sessions = top_100_render_counter['session'].unique()\n",
    "\n",
    "# Display the sessions and the corresponding render counter values\n",
    "print(top_100_render_counter[['session', 'render_counter']])"
   ]
  },
  {
   "cell_type": "code",
   "execution_count": 661,
   "id": "50212059",
   "metadata": {},
   "outputs": [
    {
     "name": "stdout",
     "output_type": "stream",
     "text": [
      "       render_counter  wakeup_counter           read_date  battery_capacity\n",
      "41284               6           19774 2021-02-02 12:01:47              36.9\n",
      "41285               4           42626 2019-04-18 12:02:25              81.5\n",
      "41286               4          102172 2019-04-26 12:02:55              81.0\n",
      "41287              10          129773 2019-05-12 12:02:18              79.9\n",
      "41288              11          167460 2019-05-20 12:02:53              79.4\n",
      "41289              11          197500 2019-05-28 12:02:29              78.8\n",
      "41290              11          257112 2019-06-05 12:02:48              78.3\n",
      "41291              13          284989 2019-06-23 12:02:05              77.1\n",
      "41292              15          312210 2019-07-01 12:02:29              76.6\n",
      "41293              16          339011 2019-07-09 12:03:54              76.0\n",
      "41294              16          364053 2019-07-17 12:02:06              75.5\n",
      "41295              16          388875 2019-07-25 12:02:23              75.0\n",
      "41296              16          414171 2019-08-02 12:02:54              74.5\n",
      "41297              17          439375 2019-08-10 12:01:58              73.9\n",
      "41298              17          463950 2019-08-18 12:02:21              73.4\n",
      "41299              17          486480 2019-08-26 12:03:51              72.9\n",
      "41300              17          509311 2019-09-03 12:01:57              72.4\n",
      "41301              17          532581 2019-09-11 12:02:23              71.9\n",
      "41302              17          556852 2019-09-19 12:04:57              71.4\n",
      "41303              17          583706 2019-09-27 12:03:01              70.8\n",
      "41304              18          609521 2019-10-05 12:02:28              70.3\n",
      "41305              19          633290 2019-10-13 12:02:38              69.8\n",
      "41306              20          671006 2019-10-21 12:02:58              69.3\n",
      "41307      4294967295          696430 2019-10-29 12:05:42              15.0\n",
      "41308      4294967295          729541 2019-11-06 12:02:58              15.0\n",
      "41309      4294967295         1407530 2019-11-14 12:24:04              15.0\n",
      "41310      4294967295         1442526 2019-11-30 12:08:55              15.0\n",
      "41311      4294967295         1477651 2019-12-08 12:02:54              14.7\n",
      "41312      4294967295         1511961 2019-12-16 12:06:48               0.7\n",
      "41313      4294967295         1543572 2019-12-24 12:16:05              15.0\n"
     ]
    }
   ],
   "source": [
    "# Let us examine session 555\n",
    "render_counter_session_555 = df[df['session'] == 555][['render_counter', 'wakeup_counter', 'read_date', 'battery_capacity']]\n",
    "print(render_counter_session_555)\n",
    "\n",
    "# Here we see an error in wakeup_counter, where the increase in wakeup counter marked this as 1 continuous session\n",
    "# where in reality, the session actually ended and the next session started with a larger wakeup counter, further\n",
    "# necessitating the fact that render counter must sync with wakeup counter.\n",
    "# And of course, the anomalous values are very obvious here."
   ]
  },
  {
   "cell_type": "code",
   "execution_count": null,
   "id": "c1f5ea35",
   "metadata": {},
   "outputs": [],
   "source": [
    "# Fix the session organization to when wakeup counter and render counter both change.\n",
    "# Clean both accordingly."
   ]
  },
  {
   "cell_type": "markdown",
   "id": "b228584d",
   "metadata": {},
   "source": [
    "(fin)"
   ]
  },
  {
   "cell_type": "markdown",
   "id": "203ae574",
   "metadata": {},
   "source": [
    "# lazy analysis"
   ]
  },
  {
   "cell_type": "code",
   "execution_count": 589,
   "id": "55d13495",
   "metadata": {},
   "outputs": [
    {
     "data": {
      "text/plain": [
       "0          5495.966667\n",
       "1          5874.950000\n",
       "2          6272.583333\n",
       "3          6650.633333\n",
       "4          7043.650000\n",
       "              ...     \n",
       "999994    10369.083333\n",
       "999995    10910.016667\n",
       "999996    11333.183333\n",
       "999997    11725.333333\n",
       "999998    12113.283333\n",
       "Name: minutes, Length: 999890, dtype: float64"
      ]
     },
     "execution_count": 589,
     "metadata": {},
     "output_type": "execute_result"
    }
   ],
   "source": [
    "# from here, I realize the wakeup counter may be monitoring the amount of milliseconds\n",
    "\n",
    "# Divide every value in the wakeup_counter column by 60\n",
    "df['minutes'] = df['wakeup_counter'] / 60 # assuming seconds to minutes\n",
    "df['minutes']"
   ]
  },
  {
   "cell_type": "code",
   "execution_count": 591,
   "id": "1f2bb460",
   "metadata": {},
   "outputs": [],
   "source": [
    "df['hours'] = df['minutes'] / 60 # minutes to hours\n",
    "df['days'] = df['hours'] / 24 # hours to days\n",
    "df['weeks'] = df['days'] / 7 # days to weeks\n",
    "df['years'] = df['weeks'] / 52 # weeks to years"
   ]
  },
  {
   "cell_type": "code",
   "execution_count": 580,
   "id": "f74fba6b",
   "metadata": {},
   "outputs": [
    {
     "data": {
      "text/plain": [
       "0        2019-04-23 12:02:38\n",
       "1        2019-05-01 12:02:30\n",
       "2        2019-05-09 12:03:03\n",
       "3        2019-05-17 12:03:16\n",
       "4        2019-05-25 12:02:26\n",
       "                 ...        \n",
       "999994   2021-01-22 12:03:00\n",
       "999995   2021-01-31 12:03:59\n",
       "999996   2018-11-07 12:02:12\n",
       "999997   2018-11-15 12:02:36\n",
       "999998   2018-11-23 12:01:49\n",
       "Name: read_date, Length: 999890, dtype: datetime64[ns]"
      ]
     },
     "execution_count": 580,
     "metadata": {},
     "output_type": "execute_result"
    }
   ],
   "source": [
    "# reverse read date\n",
    "df['read_date'] = np.flip(df['read_date'].values)\n",
    "df['read_date']"
   ]
  },
  {
   "cell_type": "code",
   "execution_count": null,
   "id": "5edcff40",
   "metadata": {},
   "outputs": [],
   "source": [
    "# reverse battery capacity\n",
    "df['battery_capacity'] = np.flip(df['battery_capacity'].values)\n",
    "df['battery_capacity']"
   ]
  },
  {
   "cell_type": "code",
   "execution_count": 599,
   "id": "b455f01c",
   "metadata": {},
   "outputs": [
    {
     "name": "stdout",
     "output_type": "stream",
     "text": [
      "             read_date  wakeup_counter  battery_capacity\n",
      "0  2019-04-23 12:02:38          329758              80.1\n",
      "1  2019-05-01 12:02:30          352497              79.6\n",
      "2  2019-05-09 12:03:03          376355              79.1\n",
      "3  2019-05-17 12:03:16          399038              78.6\n",
      "4  2019-05-25 12:02:26          422619              78.0\n",
      "5  2019-06-02 12:02:52          445984              77.5\n",
      "6  2019-06-10 12:03:12          468203              77.0\n",
      "7  2019-06-18 12:02:16          490953              76.5\n",
      "8  2019-06-26 12:02:39          516308              13.1\n",
      "9  2019-07-04 12:02:59          539060              75.5\n",
      "10 2019-07-12 12:02:14          562742              75.0\n",
      "11 2019-07-20 12:02:45          587061              74.4\n",
      "12 2019-07-28 12:03:07          610519              73.9\n",
      "13 2019-08-05 12:03:19          632855              73.4\n",
      "14 2019-08-13 12:02:46          656735              72.9\n",
      "15 2019-08-21 12:05:12          680700              72.4\n",
      "16 2019-08-29 12:02:07          703057              71.9\n",
      "17 2019-09-06 12:02:36          727097              71.3\n",
      "18 2019-09-14 12:02:52          750599              70.8\n",
      "19 2019-09-22 12:02:16          773356              70.3\n",
      "20 2019-09-30 12:02:39          795684              69.8\n",
      "21 2019-10-08 12:02:46          818750              69.3\n",
      "22 2019-10-16 12:02:04          841559              68.8\n",
      "23 2019-10-24 12:03:40          865104              68.3\n",
      "24 2019-10-31 12:02:33          886259              67.8\n",
      "25 2019-11-08 12:03:17          908680              67.3\n",
      "26 2019-11-16 12:02:11          932467              66.8\n",
      "27 2019-11-24 12:03:35          957024              66.3\n",
      "28 2019-12-02 12:02:50          979362              65.8\n",
      "29 2019-12-10 12:02:21         1002275              65.2\n",
      "30 2019-12-18 12:02:24         1026780              64.7\n",
      "31 2019-12-26 12:02:59         1049822              64.2\n",
      "32 2020-01-03 12:02:03         1072428              63.7\n",
      "33 2020-01-11 12:02:36         1096689              63.2\n",
      "34 2020-01-19 12:02:48         1119556              62.7\n",
      "35 2020-01-27 12:03:20         1142110              62.1\n",
      "36 2020-02-04 12:02:21         1166668              61.6\n",
      "37 2020-02-12 12:03:59         1190612              61.1\n",
      "38 2020-02-20 12:02:02         1214618              60.6\n",
      "39 2020-02-28 12:02:15         1238499              60.1\n",
      "40 2020-03-07 12:02:37         1261077              59.6\n",
      "41 2020-03-15 12:01:55         1283617              59.1\n",
      "42 2020-03-23 12:02:26         1305679              58.5\n",
      "43 2020-03-31 12:02:20         1328772              58.0\n",
      "44 2020-04-08 12:02:42         1350695              57.5\n",
      "45 2020-04-16 12:03:05         1372865              57.0\n",
      "46 2020-04-24 12:03:16         1395415              56.5\n",
      "47 2020-05-02 12:02:42         1417373              56.0\n",
      "48 2020-05-10 12:01:45         1440187              55.5\n",
      "49 2020-05-18 12:03:05         1470419              54.9\n",
      "50 2020-05-26 12:02:19         1493071              54.4\n"
     ]
    }
   ],
   "source": [
    "# Filter the rows where session is 0 and display the desired columns\n",
    "session_0_data = df[df['session'] == 0][['read_date', 'wakeup_counter', 'battery_capacity']]\n",
    "\n",
    "# Display the filtered data for session 0\n",
    "print(session_0_data)"
   ]
  },
  {
   "cell_type": "code",
   "execution_count": 600,
   "id": "6413ba2c",
   "metadata": {},
   "outputs": [
    {
     "name": "stdout",
     "output_type": "stream",
     "text": [
      "Time difference in read_date (session 0): 398 days 23:59:41\n",
      "Difference in wakeup_counter (session 0): 1163313\n"
     ]
    }
   ],
   "source": [
    "# Filter the DataFrame for session 0\n",
    "session_0_df = df[df['session'] == 0]\n",
    "\n",
    "# Find the earliest and latest read_date\n",
    "earliest_read_date = session_0_df['read_date'].min()\n",
    "latest_read_date = session_0_df['read_date'].max()\n",
    "\n",
    "# Find the difference in read_date (time difference)\n",
    "read_date_diff = latest_read_date - earliest_read_date\n",
    "\n",
    "# Find the smallest and largest wakeup_counter\n",
    "smallest_wakeup_counter = session_0_df['wakeup_counter'].min()\n",
    "largest_wakeup_counter = session_0_df['wakeup_counter'].max()\n",
    "\n",
    "# Find the difference in wakeup_counter\n",
    "wakeup_counter_diff = largest_wakeup_counter - smallest_wakeup_counter\n",
    "\n",
    "# Print the results\n",
    "print(f\"Time difference in read_date (session 0): {read_date_diff}\")\n",
    "print(f\"Difference in wakeup_counter (session 0): {wakeup_counter_diff}\")\n"
   ]
  },
  {
   "cell_type": "code",
   "execution_count": 572,
   "id": "c958a381",
   "metadata": {},
   "outputs": [
    {
     "data": {
      "text/html": [
       "<div>\n",
       "<style scoped>\n",
       "    .dataframe tbody tr th:only-of-type {\n",
       "        vertical-align: middle;\n",
       "    }\n",
       "\n",
       "    .dataframe tbody tr th {\n",
       "        vertical-align: top;\n",
       "    }\n",
       "\n",
       "    .dataframe thead th {\n",
       "        text-align: right;\n",
       "    }\n",
       "</style>\n",
       "<table border=\"1\" class=\"dataframe\">\n",
       "  <thead>\n",
       "    <tr style=\"text-align: right;\">\n",
       "      <th></th>\n",
       "      <th>session</th>\n",
       "      <th>seconds</th>\n",
       "      <th>minutes</th>\n",
       "      <th>hours</th>\n",
       "      <th>days</th>\n",
       "      <th>weeks</th>\n",
       "      <th>years</th>\n",
       "    </tr>\n",
       "  </thead>\n",
       "  <tbody>\n",
       "    <tr>\n",
       "      <th>0</th>\n",
       "      <td>0</td>\n",
       "      <td>329.758</td>\n",
       "      <td>5.495967</td>\n",
       "      <td>0.091599</td>\n",
       "      <td>0.003817</td>\n",
       "      <td>0.000545</td>\n",
       "      <td>0.000010</td>\n",
       "    </tr>\n",
       "    <tr>\n",
       "      <th>1</th>\n",
       "      <td>0</td>\n",
       "      <td>352.497</td>\n",
       "      <td>5.874950</td>\n",
       "      <td>0.097916</td>\n",
       "      <td>0.004080</td>\n",
       "      <td>0.000583</td>\n",
       "      <td>0.000011</td>\n",
       "    </tr>\n",
       "    <tr>\n",
       "      <th>2</th>\n",
       "      <td>0</td>\n",
       "      <td>376.355</td>\n",
       "      <td>6.272583</td>\n",
       "      <td>0.104543</td>\n",
       "      <td>0.004356</td>\n",
       "      <td>0.000622</td>\n",
       "      <td>0.000012</td>\n",
       "    </tr>\n",
       "    <tr>\n",
       "      <th>3</th>\n",
       "      <td>0</td>\n",
       "      <td>399.038</td>\n",
       "      <td>6.650633</td>\n",
       "      <td>0.110844</td>\n",
       "      <td>0.004618</td>\n",
       "      <td>0.000660</td>\n",
       "      <td>0.000013</td>\n",
       "    </tr>\n",
       "    <tr>\n",
       "      <th>4</th>\n",
       "      <td>0</td>\n",
       "      <td>422.619</td>\n",
       "      <td>7.043650</td>\n",
       "      <td>0.117394</td>\n",
       "      <td>0.004891</td>\n",
       "      <td>0.000699</td>\n",
       "      <td>0.000013</td>\n",
       "    </tr>\n",
       "    <tr>\n",
       "      <th>...</th>\n",
       "      <td>...</td>\n",
       "      <td>...</td>\n",
       "      <td>...</td>\n",
       "      <td>...</td>\n",
       "      <td>...</td>\n",
       "      <td>...</td>\n",
       "      <td>...</td>\n",
       "    </tr>\n",
       "    <tr>\n",
       "      <th>999994</th>\n",
       "      <td>14885</td>\n",
       "      <td>622.145</td>\n",
       "      <td>10.369083</td>\n",
       "      <td>0.172818</td>\n",
       "      <td>0.007201</td>\n",
       "      <td>0.001029</td>\n",
       "      <td>0.000020</td>\n",
       "    </tr>\n",
       "    <tr>\n",
       "      <th>999995</th>\n",
       "      <td>14885</td>\n",
       "      <td>654.601</td>\n",
       "      <td>10.910017</td>\n",
       "      <td>0.181834</td>\n",
       "      <td>0.007576</td>\n",
       "      <td>0.001082</td>\n",
       "      <td>0.000021</td>\n",
       "    </tr>\n",
       "    <tr>\n",
       "      <th>999996</th>\n",
       "      <td>14885</td>\n",
       "      <td>679.991</td>\n",
       "      <td>11.333183</td>\n",
       "      <td>0.188886</td>\n",
       "      <td>0.007870</td>\n",
       "      <td>0.001124</td>\n",
       "      <td>0.000022</td>\n",
       "    </tr>\n",
       "    <tr>\n",
       "      <th>999997</th>\n",
       "      <td>14885</td>\n",
       "      <td>703.520</td>\n",
       "      <td>11.725333</td>\n",
       "      <td>0.195422</td>\n",
       "      <td>0.008143</td>\n",
       "      <td>0.001163</td>\n",
       "      <td>0.000022</td>\n",
       "    </tr>\n",
       "    <tr>\n",
       "      <th>999998</th>\n",
       "      <td>14885</td>\n",
       "      <td>726.797</td>\n",
       "      <td>12.113283</td>\n",
       "      <td>0.201888</td>\n",
       "      <td>0.008412</td>\n",
       "      <td>0.001202</td>\n",
       "      <td>0.000023</td>\n",
       "    </tr>\n",
       "  </tbody>\n",
       "</table>\n",
       "<p>999890 rows × 7 columns</p>\n",
       "</div>"
      ],
      "text/plain": [
       "        session  seconds    minutes     hours      days     weeks     years\n",
       "0             0  329.758   5.495967  0.091599  0.003817  0.000545  0.000010\n",
       "1             0  352.497   5.874950  0.097916  0.004080  0.000583  0.000011\n",
       "2             0  376.355   6.272583  0.104543  0.004356  0.000622  0.000012\n",
       "3             0  399.038   6.650633  0.110844  0.004618  0.000660  0.000013\n",
       "4             0  422.619   7.043650  0.117394  0.004891  0.000699  0.000013\n",
       "...         ...      ...        ...       ...       ...       ...       ...\n",
       "999994    14885  622.145  10.369083  0.172818  0.007201  0.001029  0.000020\n",
       "999995    14885  654.601  10.910017  0.181834  0.007576  0.001082  0.000021\n",
       "999996    14885  679.991  11.333183  0.188886  0.007870  0.001124  0.000022\n",
       "999997    14885  703.520  11.725333  0.195422  0.008143  0.001163  0.000022\n",
       "999998    14885  726.797  12.113283  0.201888  0.008412  0.001202  0.000023\n",
       "\n",
       "[999890 rows x 7 columns]"
      ]
     },
     "execution_count": 572,
     "metadata": {},
     "output_type": "execute_result"
    }
   ],
   "source": [
    "df[['session', 'seconds', 'minutes', 'hours', 'days', 'weeks', 'years']]"
   ]
  },
  {
   "cell_type": "code",
   "execution_count": 573,
   "id": "21fde24f",
   "metadata": {},
   "outputs": [
    {
     "name": "stdout",
     "output_type": "stream",
     "text": [
      "session\n",
      "0        0.537611\n",
      "1        0.003298\n",
      "2        1.114558\n",
      "3        1.167713\n",
      "4        0.087251\n",
      "           ...   \n",
      "14881    0.903208\n",
      "14882    0.839685\n",
      "14883    0.082643\n",
      "14884    0.740019\n",
      "14885    0.086264\n",
      "Name: days, Length: 14886, dtype: float64\n"
     ]
    }
   ],
   "source": [
    "# Group by 'session' and sum the 'days' column\n",
    "session_day_sum = df.groupby('session')['days'].sum()\n",
    "\n",
    "# Display the result\n",
    "print(session_day_sum)"
   ]
  },
  {
   "cell_type": "code",
   "execution_count": 577,
   "id": "482c30ef",
   "metadata": {},
   "outputs": [
    {
     "name": "stdout",
     "output_type": "stream",
     "text": [
      "            seconds      minutes      hours      days     weeks     years\n",
      "session                                                                  \n",
      "1         46449.612   774.160200  12.902670  0.537611  0.076802  0.001477\n",
      "2           284.927     4.748783   0.079146  0.003298  0.000471  0.000009\n",
      "3         96297.782  1604.963033  26.749384  1.114558  0.159223  0.003062\n",
      "4        100890.441  1681.507350  28.025122  1.167713  0.166816  0.003208\n",
      "5          7538.485   125.641417   2.094024  0.087251  0.012464  0.000240\n",
      "...             ...          ...        ...       ...       ...       ...\n",
      "14882     78037.183  1300.619717  21.676995  0.903208  0.129030  0.002481\n",
      "14883     72548.752  1209.145867  20.152431  0.839685  0.119955  0.002307\n",
      "14884      7140.336   119.005600   1.983427  0.082643  0.011806  0.000227\n",
      "14885     63937.627  1065.627117  17.760452  0.740019  0.105717  0.002033\n",
      "14886      7453.207   124.220117   2.070335  0.086264  0.012323  0.000237\n",
      "\n",
      "[14886 rows x 6 columns]\n"
     ]
    }
   ],
   "source": [
    "# Group by 'session' and aggregate the sum for each time measure\n",
    "sessions_df = df.groupby('session')[['seconds', 'minutes', 'hours', 'days', 'weeks', 'years']].sum()\n",
    "\n",
    "# make the session index start at 1 instead of 0\n",
    "sessions_df.index = sessions_df.index + 1\n",
    "print(sessions_df)"
   ]
  },
  {
   "cell_type": "code",
   "execution_count": 56,
   "id": "04540fb7",
   "metadata": {},
   "outputs": [
    {
     "data": {
      "image/png": "[encoded data removed]",
      "text/plain": [
       "<Figure size 1200x600 with 2 Axes>"
      ]
     },
     "metadata": {},
     "output_type": "display_data"
    }
   ],
   "source": [
    "import matplotlib.pyplot as plt\n",
    "\n",
    "# Filter data for session 0\n",
    "session_0_data = df[df['session'] == 0]\n",
    "\n",
    "# Plot battery_capacity and wakeup_counter\n",
    "fig, ax1 = plt.subplots(figsize=(12, 6))\n",
    "\n",
    "# Plot wakeup_counter on the first y-axis\n",
    "ax1.plot(session_0_data.index, session_0_data['wakeup_counter'], color='b', label='Wakeup Counter', alpha=0.6)\n",
    "ax1.set_xlabel('Index')\n",
    "ax1.set_ylabel('Wakeup Counter', color='b')\n",
    "ax1.tick_params(axis='y', labelcolor='b')\n",
    "\n",
    "# Create a second y-axis to plot battery_capacity\n",
    "ax2 = ax1.twinx()\n",
    "ax2.plot(session_0_data.index, session_0_data['battery_capacity'], color='g', label='Battery Capacity', alpha=0.6)\n",
    "ax2.set_ylabel('Battery Capacity', color='g')\n",
    "ax2.tick_params(axis='y', labelcolor='g')\n",
    "\n",
    "# Add title and show the plot\n",
    "plt.title('Battery Capacity and Wakeup Counter for Session 0')\n",
    "plt.show()\n"
   ]
  },
  {
   "cell_type": "code",
   "execution_count": null,
   "id": "2a88519d",
   "metadata": {
    "scrolled": false
   },
   "outputs": [],
   "source": []
  },
  {
   "cell_type": "code",
   "execution_count": null,
   "id": "63ef8b03",
   "metadata": {},
   "outputs": [],
   "source": [
    "# Group by the 'session' column and calculate the min and max for each session\n",
    "session_min_max_filtered = df.groupby('session')['wakeup_counter'].agg(['min', 'max'])\n",
    "\n",
    "# Sort the sessions by the max values in descending order and select the top 15\n",
    "top_15_sessions = session_min_max_filtered.sort_values('max', ascending=False).head(15)\n",
    "\n",
    "# Plot the min and max values\n",
    "plt.figure(figsize=(10, 6))\n",
    "plt.plot(session_min_max_filtered.index, session_min_max_filtered['min'], label='Min Value', color='blue', marker='o')\n",
    "plt.plot(session_min_max_filtered.index, session_min_max_filtered['max'], label='Max Value', color='red', marker='o')\n",
    "\n",
    "# Label the top 15 largest points (max values)\n",
    "for session in top_15_sessions.index:\n",
    "    max_value = session_min_max_filtered.loc[session, 'max']\n",
    "    plt.text(session, max_value, f'Session {session}', fontsize=9, ha='right', color='darkred')\n",
    "\n",
    "# Adding labels and title\n",
    "plt.xlabel('Session')\n",
    "plt.ylabel('Wakeup Counter Value')\n",
    "plt.title('Min and Max Wakeup Counter Values per Session')\n",
    "\n",
    "# Displaying the legend\n",
    "plt.legend()\n",
    "\n",
    "# Show the plot\n",
    "plt.tight_layout()\n",
    "plt.show()"
   ]
  },
  {
   "cell_type": "code",
   "execution_count": 55,
   "id": "20451032",
   "metadata": {},
   "outputs": [
    {
     "data": {
      "text/plain": [
       "factory_id                       int64\n",
       "tag_type_code                    int64\n",
       "battery_replace_date    datetime64[ns]\n",
       "display_name                    object\n",
       "wdt_state_id                     int64\n",
       "sensor_value                     int64\n",
       "voltage                        float64\n",
       "battery_capacity               float64\n",
       "base_capacity                  float64\n",
       "wakeup_counter                   int64\n",
       "firmware_version                 int64\n",
       "read_date               datetime64[ns]\n",
       "render_counter                   int64\n",
       "session                          int32\n",
       "dtype: object"
      ]
     },
     "execution_count": 55,
     "metadata": {},
     "output_type": "execute_result"
    }
   ],
   "source": [
    "df.dtypes"
   ]
  },
  {
   "cell_type": "code",
   "execution_count": null,
   "id": "a229decc",
   "metadata": {},
   "outputs": [],
   "source": [
    "# render counter\n",
    "render_unique = df['render_counter'].unique()\n",
    "print('Unique Render Counter:', len(render))\n",
    "render_counts = df['render_counter'].value_counts()"
   ]
  },
  {
   "cell_type": "code",
   "execution_count": null,
   "id": "14c0d709",
   "metadata": {},
   "outputs": [],
   "source": [
    "# Generate Q-Q plot for 'render_counter'\n",
    "stats.probplot(df['render_counter'], dist=\"norm\", plot=plt)\n",
    "plt.title(\"Q-Q Plot for Render Counter\")\n",
    "plt.xlabel(\"Theoretical Quantiles\")\n",
    "plt.ylabel(\"Sample Quantiles\")\n",
    "plt.grid(True)\n",
    "plt.show()"
   ]
  },
  {
   "cell_type": "code",
   "execution_count": null,
   "id": "a02aa7ed",
   "metadata": {},
   "outputs": [],
   "source": [
    "# Box plot for 'render_counter'\n",
    "plt.figure(figsize=(8, 6))\n",
    "sns.boxplot(x=df['render_counter'])\n",
    "plt.title(\"Box Plot for Render Counter\")\n",
    "plt.xlabel(\"Render Counter\")\n",
    "plt.grid(True)\n",
    "plt.show()"
   ]
  },
  {
   "cell_type": "code",
   "execution_count": null,
   "id": "45b395d1",
   "metadata": {},
   "outputs": [],
   "source": [
    "# Get unique values from 'render_counter', sort them, and get the top 50 largest\n",
    "top_50_unique_values = df['render_counter'].drop_duplicates().nlargest(50)\n",
    "print(top_50_unique_values)"
   ]
  },
  {
   "cell_type": "code",
   "execution_count": null,
   "id": "8dd14312",
   "metadata": {
    "scrolled": false
   },
   "outputs": [],
   "source": []
  },
  {
   "cell_type": "code",
   "execution_count": null,
   "id": "d28909ea",
   "metadata": {},
   "outputs": [],
   "source": []
  },
  {
   "cell_type": "code",
   "execution_count": null,
   "id": "c046162f",
   "metadata": {},
   "outputs": [],
   "source": []
  }
 ],
 "metadata": {
  "kernelspec": {
   "display_name": "Python 3 (ipykernel)",
   "language": "python",
   "name": "python3"
  },
  "language_info": {
   "codemirror_mode": {
    "name": "ipython",
    "version": 3
   },
   "file_extension": ".py",
   "mimetype": "text/x-python",
   "name": "python",
   "nbconvert_exporter": "python",
   "pygments_lexer": "ipython3",
   "version": "3.11.5"
  }
 },
 "nbformat": 4,
 "nbformat_minor": 5
}
