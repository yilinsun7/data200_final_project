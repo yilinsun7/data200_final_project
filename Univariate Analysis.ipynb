{
 "cells": [
  {
   "cell_type": "markdown",
   "id": "c1fae24e",
   "metadata": {},
   "source": [
    "# Univariate Analysis"
   ]
  },
  {
   "cell_type": "code",
   "execution_count": 1,
   "id": "480e3bdf",
   "metadata": {},
   "outputs": [],
   "source": [
    "import csv\n",
    "import pandas as pd\n",
    "import glob\n",
    "import seaborn as sns\n",
    "import matplotlib.pyplot as plt\n",
    "import numpy as np\n",
    "import scipy.stats as stats"
   ]
  },
  {
   "cell_type": "markdown",
   "id": "f92d2343",
   "metadata": {},
   "source": [
    "# Import Data"
   ]
  },
  {
   "cell_type": "code",
   "execution_count": 45,
   "id": "ace99e8a",
   "metadata": {
    "scrolled": false
   },
   "outputs": [],
   "source": [
    "csv_files = glob.glob('*.csv')\n",
    "dfs = []\n",
    "\n",
    "for file in csv_files:\n",
    "    df = pd.read_csv(file)\n",
    "    dfs.append(df)\n",
    "\n",
    "df = pd.concat(dfs, ignore_index=True)"
   ]
  },
  {
   "cell_type": "markdown",
   "id": "85ac63b2",
   "metadata": {},
   "source": [
    "# Display Data Information"
   ]
  },
  {
   "cell_type": "code",
   "execution_count": 3,
   "id": "460d0019",
   "metadata": {},
   "outputs": [
    {
     "name": "stdout",
     "output_type": "stream",
     "text": [
      "<class 'pandas.core.frame.DataFrame'>\n",
      "RangeIndex: 999999 entries, 0 to 999998\n",
      "Data columns (total 13 columns):\n",
      " #   Column                Non-Null Count   Dtype  \n",
      "---  ------                --------------   -----  \n",
      " 0   factory_id            999999 non-null  int64  \n",
      " 1   tag_type_code         999999 non-null  int64  \n",
      " 2   battery_replace_date  999999 non-null  object \n",
      " 3   display_name          999999 non-null  object \n",
      " 4   wdt_state_id          999999 non-null  int64  \n",
      " 5   sensor_value          999999 non-null  int64  \n",
      " 6   voltage               999999 non-null  float64\n",
      " 7   battery_capacity      999999 non-null  float64\n",
      " 8   base_capacity         999999 non-null  float64\n",
      " 9   wakeup_counter        999999 non-null  int64  \n",
      " 10  firmware_version      999999 non-null  int64  \n",
      " 11  read_date             999999 non-null  object \n",
      " 12  render_counter        999999 non-null  int64  \n",
      "dtypes: float64(3), int64(7), object(3)\n",
      "memory usage: 99.2+ MB\n"
     ]
    }
   ],
   "source": [
    "df.info() # no missing values (1,000,000 values expected)"
   ]
  },
  {
   "cell_type": "markdown",
   "id": "2bdaa11c",
   "metadata": {},
   "source": [
    "# Factory ID"
   ]
  },
  {
   "cell_type": "code",
   "execution_count": 4,
   "id": "ee28be48",
   "metadata": {},
   "outputs": [
    {
     "name": "stdout",
     "output_type": "stream",
     "text": [
      "Unique Factory IDs: 10996\n",
      "Unique Factory ID Counts: factory_id\n",
      "72561069    120\n",
      "72550335    120\n",
      "72554802    120\n",
      "72552537    120\n",
      "72554691    120\n",
      "           ... \n",
      "72558765      1\n",
      "72235152      1\n",
      "72557858      1\n",
      "72557856      1\n",
      "72596742      1\n",
      "Name: count, Length: 10996, dtype: int64\n"
     ]
    }
   ],
   "source": [
    "# Factory ID is more categorical than numerical, so we find how many unique IDs as well as well as their counts\n",
    "factory_unique = df['factory_id'].unique()\n",
    "print('Unique Factory IDs:', len(factory_unique))\n",
    "\n",
    "factory_counts = df['factory_id'].value_counts()\n",
    "print('Unique Factory ID Counts:', factory_counts)"
   ]
  },
  {
   "cell_type": "markdown",
   "id": "e2a1511c",
   "metadata": {},
   "source": [
    "# Tag Type Code"
   ]
  },
  {
   "cell_type": "code",
   "execution_count": 5,
   "id": "981d36e1",
   "metadata": {},
   "outputs": [
    {
     "name": "stdout",
     "output_type": "stream",
     "text": [
      "Unique Tag Type Codes: 1\n",
      "Unique Factory ID Counts: tag_type_code\n",
      "208    999999\n",
      "Name: count, dtype: int64\n"
     ]
    }
   ],
   "source": [
    "# Similar to factory ID, categorical. Contains only 1 unique value.\n",
    "ttc_unique = df['tag_type_code'].unique()\n",
    "print('Unique Tag Type Codes:', len(ttc_unique))\n",
    "\n",
    "ttc_counts = df['tag_type_code'].value_counts()\n",
    "print('Unique Factory ID Counts:', ttc_counts)"
   ]
  },
  {
   "cell_type": "markdown",
   "id": "28f0ac58",
   "metadata": {},
   "source": [
    "# Battery Replacement Date"
   ]
  },
  {
   "cell_type": "code",
   "execution_count": 6,
   "id": "5b7758cc",
   "metadata": {},
   "outputs": [
    {
     "data": {
      "text/plain": [
       "factory_id                       int64\n",
       "tag_type_code                    int64\n",
       "battery_replace_date    datetime64[ns]\n",
       "display_name                    object\n",
       "wdt_state_id                     int64\n",
       "sensor_value                     int64\n",
       "voltage                        float64\n",
       "battery_capacity               float64\n",
       "base_capacity                  float64\n",
       "wakeup_counter                   int64\n",
       "firmware_version                 int64\n",
       "read_date               datetime64[ns]\n",
       "render_counter                   int64\n",
       "dtype: object"
      ]
     },
     "execution_count": 6,
     "metadata": {},
     "output_type": "execute_result"
    }
   ],
   "source": [
    "# Turn the dates from object to datetime\n",
    "df['read_date'] = df['read_date'].str.replace(r'\\.\\d+$', '', regex=True)\n",
    "df['battery_replace_date'] = df['battery_replace_date'].str.replace(r'\\.\\d+$', '', regex=True)\n",
    "\n",
    "df['battery_replace_date'] = pd.to_datetime(df['battery_replace_date'])\n",
    "df['read_date'] = pd.to_datetime(df['read_date'])\n",
    "\n",
    "# Confirm data types\n",
    "df.dtypes"
   ]
  },
  {
   "cell_type": "code",
   "execution_count": 7,
   "id": "2d90b2bd",
   "metadata": {},
   "outputs": [
    {
     "name": "stdout",
     "output_type": "stream",
     "text": [
      "Battery Replacement Date Range: 2007-12-26 00:00:00 to 2135-05-16 01:00:00\n",
      "Most recent dates:\n",
      "250360   2135-05-16 01:00:00\n",
      "672549   2062-12-01 00:00:00\n",
      "9930     2049-11-10 00:00:00\n",
      "42155    2049-11-10 00:00:00\n",
      "355699   2049-11-10 00:00:00\n",
      "986970   2018-12-29 11:19:42\n",
      "986971   2018-12-29 11:19:42\n",
      "986972   2018-12-29 11:19:42\n",
      "791663   2018-12-18 13:10:04\n",
      "791664   2018-12-18 13:10:04\n",
      "Name: battery_replace_date, dtype: datetime64[ns]\n"
     ]
    }
   ],
   "source": [
    "# Dates at which the battery was last replaced\n",
    "battery_replace_date = df['battery_replace_date']\n",
    "print('Battery Replacement Date Range:', battery_replace_date.min(), 'to', battery_replace_date.max())\n",
    "\n",
    "# It appears there are some nonsensical dates, we must drop them. Get the top 10 most recent dates\n",
    "top_10_dates = battery_replace_date.nlargest(10)\n",
    "print('Most recent dates:')\n",
    "print(top_10_dates)"
   ]
  },
  {
   "cell_type": "code",
   "execution_count": 8,
   "id": "df3d5848",
   "metadata": {},
   "outputs": [
    {
     "name": "stdout",
     "output_type": "stream",
     "text": [
      "Battery Replacement Date Range: 2007-12-26 00:00:00 to 2018-12-29 11:19:42\n"
     ]
    }
   ],
   "source": [
    "# Drop all dates past December 31, 2018, then check range again.\n",
    "dates_filtered = df[battery_replace_date <= '2018-12-31']\n",
    "\n",
    "# Display the min and max of the filtered 'battery_replace_date'\n",
    "battery_replace_date = dates_filtered['battery_replace_date']\n",
    "print('Battery Replacement Date Range:', battery_replace_date.min(), 'to', battery_replace_date.max())"
   ]
  },
  {
   "cell_type": "code",
   "execution_count": 9,
   "id": "2a0ca54e",
   "metadata": {},
   "outputs": [
    {
     "name": "stdout",
     "output_type": "stream",
     "text": [
      "Battery Replacement Counts: 101\n",
      "5468     2007-12-26 00:00:00\n",
      "17617    2008-01-08 00:00:00\n",
      "18849    2008-01-10 00:00:00\n",
      "21390    2008-01-12 00:00:00\n",
      "35933    2008-01-13 00:00:00\n",
      "                 ...        \n",
      "724993   2018-07-06 13:43:29\n",
      "961741   2018-07-07 15:41:54\n",
      "258521   2018-12-14 00:00:00\n",
      "791663   2018-12-18 13:10:04\n",
      "986970   2018-12-29 11:19:42\n",
      "Name: battery_replace_date, Length: 101, dtype: datetime64[ns]\n"
     ]
    }
   ],
   "source": [
    "# Find how many times the battery is replaced\n",
    "battery_replace_counts = len(battery_replace_date.unique())\n",
    "print('Battery Replacement Counts:', battery_replace_counts)\n",
    "\n",
    "# Average Time between battery replacements\n",
    "unique_dates = battery_replace_date.drop_duplicates().sort_values()\n",
    "print(unique_dates)"
   ]
  },
  {
   "cell_type": "code",
   "execution_count": 10,
   "id": "1c07d6df",
   "metadata": {},
   "outputs": [
    {
     "data": {
      "text/plain": [
       "count                            100\n",
       "mean         40 days 05:09:11.820000\n",
       "std      354 days 01:20:50.579899540\n",
       "min                  0 days 00:00:07\n",
       "25%           0 days 00:45:51.250000\n",
       "50%                  1 days 00:00:00\n",
       "75%                  2 days 00:00:00\n",
       "max               3541 days 01:00:00\n",
       "Name: battery_replace_date, dtype: object"
      ]
     },
     "execution_count": 10,
     "metadata": {},
     "output_type": "execute_result"
    }
   ],
   "source": [
    "# Calculate the difference between consecutive dates\n",
    "time_diff = unique_dates.diff().dropna()\n",
    "\n",
    "# Display statistics of battery placements\n",
    "time_diff.describe()"
   ]
  },
  {
   "cell_type": "markdown",
   "id": "0faca76f",
   "metadata": {},
   "source": [
    "# Display Name"
   ]
  },
  {
   "cell_type": "code",
   "execution_count": 11,
   "id": "780e459c",
   "metadata": {},
   "outputs": [
    {
     "name": "stdout",
     "output_type": "stream",
     "text": [
      "Unique Display Names: 1\n",
      "Unique Display Name Counts: display_name\n",
      "eTag150E2    999999\n",
      "Name: count, dtype: int64\n"
     ]
    }
   ],
   "source": [
    "# Only 1 unique display name\n",
    "display_unique = df['display_name'].unique()\n",
    "print('Unique Display Names:', len(display_unique))\n",
    "\n",
    "display_counts = df['display_name'].value_counts()\n",
    "print('Unique Display Name Counts:', display_counts)"
   ]
  },
  {
   "cell_type": "markdown",
   "id": "28656924",
   "metadata": {},
   "source": [
    "# WDT State ID"
   ]
  },
  {
   "cell_type": "code",
   "execution_count": 12,
   "id": "36e231a4",
   "metadata": {},
   "outputs": [
    {
     "name": "stdout",
     "output_type": "stream",
     "text": [
      "Unique WTD State IDs: 2\n",
      "Unique WTD State ID Counts: wdt_state_id\n",
      "3    755437\n",
      "1    244562\n",
      "Name: count, dtype: int64\n",
      "\n",
      "Proportion of WDT State ID of 3: 0.7554\n",
      "Proportion of WDT State ID of 1: 0.2446\n"
     ]
    }
   ],
   "source": [
    "# 2 unique states, could indicate on or off\n",
    "x = 755437/999999\n",
    "y = 244562/999999\n",
    "\n",
    "wdt_unique = df['wdt_state_id'].unique()\n",
    "print('Unique WTD State IDs:', len(wdt_unique))\n",
    "\n",
    "wdt_counts = df['wdt_state_id'].value_counts()\n",
    "print('Unique WTD State ID Counts:', wdt_counts)\n",
    "\n",
    "# WDT State ID Proportions\n",
    "print(f'\\nProportion of WDT State ID of 3: {x:.4f}')\n",
    "print(f'Proportion of WDT State ID of 1: {y:.4f}')"
   ]
  },
  {
   "cell_type": "markdown",
   "id": "1d999ea5",
   "metadata": {},
   "source": [
    "# Sensor Value"
   ]
  },
  {
   "cell_type": "code",
   "execution_count": 13,
   "id": "9889d47d",
   "metadata": {},
   "outputs": [
    {
     "data": {
      "text/plain": [
       "count    999999.000000\n",
       "mean        181.211208\n",
       "std           4.751103\n",
       "min          64.000000\n",
       "25%         181.000000\n",
       "50%         182.000000\n",
       "75%         183.000000\n",
       "max         255.000000\n",
       "Name: sensor_value, dtype: float64"
      ]
     },
     "execution_count": 13,
     "metadata": {},
     "output_type": "execute_result"
    }
   ],
   "source": [
    "# numerical column, looks normally distrubuted\n",
    "sensor_value = df['sensor_value']\n",
    "sensor_value.describe()"
   ]
  },
  {
   "cell_type": "code",
   "execution_count": 14,
   "id": "e4f17800",
   "metadata": {},
   "outputs": [
    {
     "data": {
      "image/png": "[encoded data removed]",
      "text/plain": [
       "<Figure size 600x400 with 1 Axes>"
      ]
     },
     "metadata": {},
     "output_type": "display_data"
    }
   ],
   "source": [
    "# histogram\n",
    "plt.figure(figsize=(6, 4))\n",
    "sns.histplot(data=df, x=sensor_value, bins=50)\n",
    "plt.title('Distrbution Sensor Value')\n",
    "plt.xlabel('Sensor Value')\n",
    "plt.ylabel('Frequency')\n",
    "plt.grid(True)\n",
    "plt.show()"
   ]
  },
  {
   "cell_type": "markdown",
   "id": "e29e8415",
   "metadata": {},
   "source": [
    "# Voltage"
   ]
  },
  {
   "cell_type": "code",
   "execution_count": 15,
   "id": "739ee390",
   "metadata": {
    "scrolled": false
   },
   "outputs": [
    {
     "data": {
      "text/plain": [
       "count    999999.000000\n",
       "mean          2.966106\n",
       "std           0.078868\n",
       "min           1.020400\n",
       "25%           2.962600\n",
       "50%           2.979200\n",
       "75%           2.995800\n",
       "max           4.191000\n",
       "Name: voltage, dtype: float64"
      ]
     },
     "execution_count": 15,
     "metadata": {},
     "output_type": "execute_result"
    }
   ],
   "source": [
    "# numerical column, looks normally distributed\n",
    "voltage = df['voltage']\n",
    "voltage.describe()"
   ]
  },
  {
   "cell_type": "code",
   "execution_count": 16,
   "id": "8516a53c",
   "metadata": {},
   "outputs": [
    {
     "data": {
      "image/png": "[encoded data removed]",
      "text/plain": [
       "<Figure size 600x400 with 1 Axes>"
      ]
     },
     "metadata": {},
     "output_type": "display_data"
    }
   ],
   "source": [
    "# histogram\n",
    "plt.figure(figsize=(6, 4))\n",
    "sns.histplot(data=df, x=voltage, bins=50)\n",
    "plt.title('Distrbution of Voltage')\n",
    "plt.xlabel('Voltage')\n",
    "plt.ylabel('Frequency')\n",
    "plt.grid(True)\n",
    "plt.show()"
   ]
  },
  {
   "cell_type": "markdown",
   "id": "f47113ef",
   "metadata": {},
   "source": [
    "# Battery Capacity"
   ]
  },
  {
   "cell_type": "code",
   "execution_count": 17,
   "id": "4263937c",
   "metadata": {},
   "outputs": [
    {
     "data": {
      "text/plain": [
       "count    999999.000000\n",
       "mean         65.802486\n",
       "std          18.354133\n",
       "min           0.000000\n",
       "25%          52.400000\n",
       "50%          67.500000\n",
       "75%          80.600000\n",
       "max        2474.600000\n",
       "Name: battery_capacity, dtype: float64"
      ]
     },
     "execution_count": 17,
     "metadata": {},
     "output_type": "execute_result"
    }
   ],
   "source": [
    "# numerical column, looks normally distributed\n",
    "df['battery_capacity'].describe()"
   ]
  },
  {
   "cell_type": "code",
   "execution_count": 18,
   "id": "35e2be48",
   "metadata": {},
   "outputs": [
    {
     "data": {
      "text/plain": [
       "count    999994.000000\n",
       "mean         65.797179\n",
       "std          18.136711\n",
       "min           0.000000\n",
       "25%          52.400000\n",
       "50%          67.500000\n",
       "75%          80.600000\n",
       "max          98.300000\n",
       "Name: battery_capacity, dtype: float64"
      ]
     },
     "execution_count": 18,
     "metadata": {},
     "output_type": "execute_result"
    }
   ],
   "source": [
    "# There are some anomalous values, let us drop them with the assumption 100 is the max battery capacity, and check\n",
    "df.drop(df[df['battery_capacity'] >= 100].index, inplace=True)\n",
    "df['battery_capacity'].describe()"
   ]
  },
  {
   "cell_type": "code",
   "execution_count": 19,
   "id": "2987855c",
   "metadata": {},
   "outputs": [
    {
     "data": {
      "image/png": "[encoded data removed]",
      "text/plain": [
       "<Figure size 600x400 with 1 Axes>"
      ]
     },
     "metadata": {},
     "output_type": "display_data"
    }
   ],
   "source": [
    "# After cleaning, plot histogram\n",
    "plt.figure(figsize=(6, 4))\n",
    "sns.histplot(data=df, x=df['battery_capacity'], bins=50)\n",
    "plt.title('Distrbution of Battery Capacity')\n",
    "plt.xlabel('Battery Capacity')\n",
    "plt.ylabel('Frequency')\n",
    "plt.grid(True)\n",
    "plt.show()"
   ]
  },
  {
   "cell_type": "markdown",
   "id": "09127e12",
   "metadata": {},
   "source": [
    "# Base Capacity"
   ]
  },
  {
   "cell_type": "code",
   "execution_count": 20,
   "id": "93d77c4d",
   "metadata": {},
   "outputs": [
    {
     "data": {
      "text/plain": [
       "count    999994.000000\n",
       "mean         65.797179\n",
       "std          18.136711\n",
       "min           0.000000\n",
       "25%          52.400000\n",
       "50%          67.500000\n",
       "75%          80.600000\n",
       "max          98.300000\n",
       "Name: base_capacity, dtype: float64"
      ]
     },
     "execution_count": 20,
     "metadata": {},
     "output_type": "execute_result"
    }
   ],
   "source": [
    "# numerical column, base capacity has exact same values as battery capacity, can ignore\n",
    "df['base_capacity'].describe()"
   ]
  },
  {
   "cell_type": "markdown",
   "id": "a9609c09",
   "metadata": {},
   "source": [
    "# Wakeup Counter"
   ]
  },
  {
   "cell_type": "code",
   "execution_count": 46,
   "id": "2e1865f6",
   "metadata": {},
   "outputs": [
    {
     "data": {
      "text/plain": [
       "0         726797\n",
       "1         703520\n",
       "2         679991\n",
       "3         654601\n",
       "4         622145\n",
       "           ...  \n",
       "999994    422619\n",
       "999995    399038\n",
       "999996    376355\n",
       "999997    352497\n",
       "999998    329758\n",
       "Name: wakeup_counter, Length: 999999, dtype: int64"
      ]
     },
     "execution_count": 46,
     "metadata": {},
     "output_type": "execute_result"
    }
   ],
   "source": [
    "# This variable appears to label the amount of time that has passed since the previous wakeup call.\n",
    "# It acts as a running marker for this feature, so we must take statistics based on each total session.\n",
    "# We will reverse the column and mark when the number decreases to mark the end of 1 session.\n",
    "df['wakeup_counter']"
   ]
  },
  {
   "cell_type": "code",
   "execution_count": 47,
   "id": "9a3d6bc5",
   "metadata": {},
   "outputs": [
    {
     "data": {
      "text/plain": [
       "0         329758\n",
       "1         352497\n",
       "2         376355\n",
       "3         399038\n",
       "4         422619\n",
       "           ...  \n",
       "999994    622145\n",
       "999995    654601\n",
       "999996    679991\n",
       "999997    703520\n",
       "999998    726797\n",
       "Name: wakeup_counter, Length: 999999, dtype: int64"
      ]
     },
     "execution_count": 47,
     "metadata": {},
     "output_type": "execute_result"
    }
   ],
   "source": [
    "# Reverse the column\n",
    "df['wakeup_counter'] = df['wakeup_counter'][::-1].reset_index(drop=True)\n",
    "df['wakeup_counter']"
   ]
  },
  {
   "cell_type": "code",
   "execution_count": 48,
   "id": "13b1b1ef",
   "metadata": {},
   "outputs": [
    {
     "name": "stdout",
     "output_type": "stream",
     "text": [
      "Amount of sessions: 14898\n"
     ]
    }
   ],
   "source": [
    "# Create a column that identifies when a session ends (when a number decreases)\n",
    "df['session_end'] = df['wakeup_counter'].diff().lt(0)\n",
    "df['session_end']\n",
    "\n",
    "# Filter the dataframe to find when session_end is True\n",
    "session_end_true = df[df['session_end'] == True]\n",
    "\n",
    "# Print amount of sessions\n",
    "print('Amount of sessions:', len(session_end_true))"
   ]
  },
  {
   "cell_type": "code",
   "execution_count": 49,
   "id": "763c7113",
   "metadata": {},
   "outputs": [
    {
     "data": {
      "text/plain": [
       "0             0\n",
       "1             0\n",
       "2             0\n",
       "3             0\n",
       "4             0\n",
       "          ...  \n",
       "999994    14898\n",
       "999995    14898\n",
       "999996    14898\n",
       "999997    14898\n",
       "999998    14898\n",
       "Name: session, Length: 999999, dtype: int32"
      ]
     },
     "execution_count": 49,
     "metadata": {},
     "output_type": "execute_result"
    }
   ],
   "source": [
    "# Create a session ID based on when the session ends\n",
    "df['session'] = df['session_end'].cumsum()\n",
    "df['session']"
   ]
  },
  {
   "cell_type": "code",
   "execution_count": 50,
   "id": "2f48a31d",
   "metadata": {},
   "outputs": [],
   "source": [
    "# Drop the 'session_end' column\n",
    "df = df.drop(columns='session_end')"
   ]
  },
  {
   "cell_type": "code",
   "execution_count": 51,
   "id": "c2bce891",
   "metadata": {},
   "outputs": [
    {
     "name": "stdout",
     "output_type": "stream",
     "text": [
      "            min       max\n",
      "session                  \n",
      "0        329758   1493071\n",
      "1         22610    262317\n",
      "2         15526   2208799\n",
      "3         22311   2275734\n",
      "4         16305    611250\n",
      "...         ...       ...\n",
      "14894    316539  11404318\n",
      "14895     22226   1975236\n",
      "14896     22212    656727\n",
      "14897     19916   2808148\n",
      "14898    313056    726797\n",
      "\n",
      "[14899 rows x 2 columns]\n"
     ]
    }
   ],
   "source": [
    "# Group by the 'session' column and calculate the min and max for each session\n",
    "session_min_max = df.groupby('session')['wakeup_counter'].agg(['min', 'max'])\n",
    "\n",
    "# Display the result\n",
    "print(session_min_max)"
   ]
  },
  {
   "cell_type": "code",
   "execution_count": 52,
   "id": "ce8d02d7",
   "metadata": {},
   "outputs": [
    {
     "name": "stdout",
     "output_type": "stream",
     "text": [
      "            min         max\n",
      "session                    \n",
      "6687      89375  4294967295\n",
      "12551     13602  4015062186\n",
      "3885      21185  3135259112\n",
      "14211    248574  3054266768\n",
      "10609      9703  3036871261\n",
      "13358     57041  2181577510\n",
      "9219      13435  1074896900\n",
      "11239     10064  1074896900\n",
      "3923      10118  1074896900\n",
      "4016      11987  1074896900\n",
      "5903      31409  1074896900\n",
      "7969      15819   738208087\n",
      "5234       7187   525998504\n",
      "8933      10623   316015528\n",
      "14529      9900   142988720\n",
      "484       11627    74067170\n",
      "6001      44645    32940574\n",
      "14456     12887    30036098\n",
      "4763      48513    24311082\n",
      "1944      14106    23923026\n"
     ]
    }
   ],
   "source": [
    "# Sort the sessions by the 'max' value in descending order and select the top 100\n",
    "top_sessions = session_min_max.sort_values(by='max', ascending=False).head(20)\n",
    "\n",
    "# Print the top sessions with their min and max values\n",
    "print(top_sessions)"
   ]
  },
  {
   "cell_type": "code",
   "execution_count": 53,
   "id": "fca7ada2",
   "metadata": {
    "scrolled": false
   },
   "outputs": [
    {
     "name": "stdout",
     "output_type": "stream",
     "text": [
      "     Session  Previous Value  Jumped Value   Interval  Next Value  \\\n",
      "0         15          358395      17429444  48.631940         NaN   \n",
      "1        152          552801       7838204  14.179070   8011353.0   \n",
      "2        302          108083       1097718  10.156250   1212964.0   \n",
      "3        484         2770232      74067170  26.736811         NaN   \n",
      "4        767          331893       4730739  14.253808   4756281.0   \n",
      "..       ...             ...           ...        ...         ...   \n",
      "176    14685          336781      10237584  30.398342  10261207.0   \n",
      "177    14692          414063       4917634  11.876536   4943441.0   \n",
      "178    14712          971170       9828509  10.120277   9876464.0   \n",
      "179    14727          721318       7947515  11.018046   7969996.0   \n",
      "180    14894          316539       6436074  20.332641   6865878.0   \n",
      "\n",
      "     Magnitude of Increase  \n",
      "0                      NaN  \n",
      "1                 1.022090  \n",
      "2                 1.104987  \n",
      "3                      NaN  \n",
      "4                 1.005399  \n",
      "..                     ...  \n",
      "176               1.002307  \n",
      "177               1.005248  \n",
      "178               1.004879  \n",
      "179               1.002829  \n",
      "180               1.066780  \n",
      "\n",
      "[181 rows x 6 columns]\n"
     ]
    }
   ],
   "source": [
    "# It is very difficult to determine which values of wakeup counter are extraneous, so we implement some measures \n",
    "# to call out when the interval between two numbers when increasing is more than a factor of 10.\n",
    "# Furthermore, we only check for numbers that are 6 or more digits, as going from 5 to 6 digits is still plausible.\n",
    "# We then check the interval between the jumped number and the next to determine if it is a plausible reading or a mistake.\n",
    "\n",
    "# Initialize list to store results\n",
    "jumped_values = []\n",
    "\n",
    "# Iterate through the dataframe to check for jumps greater than 10 times in increasing values\n",
    "for i in range(1, len(df)-1):  # len(df)-1 to avoid IndexError when checking the next value\n",
    "    # Check if the current value is more than 10 times the previous value\n",
    "    if df['wakeup_counter'].iloc[i] > 10 * df['wakeup_counter'].iloc[i-1]:\n",
    "        # Only consider the jump when the value is increasing and the previous value has 6 digits\n",
    "        if df['wakeup_counter'].iloc[i] > df['wakeup_counter'].iloc[i-1] and len(str(df['wakeup_counter'].iloc[i-1])) >= 6:\n",
    "            session_number = df['session'].iloc[i]\n",
    "            previous_value = df['wakeup_counter'].iloc[i-1]\n",
    "            current_value = df['wakeup_counter'].iloc[i]\n",
    "            \n",
    "            # Calculate the interval (difference) between the previous value and the current jumped value\n",
    "            interval = current_value / previous_value\n",
    "\n",
    "            # Get the next value (after the jumped value)\n",
    "            next_value = df['wakeup_counter'].iloc[i+1]\n",
    "\n",
    "            # Check if the next value increases\n",
    "            if next_value > current_value:\n",
    "                magnitude_increase = next_value / current_value  # Calculate the magnitude of increase\n",
    "                jumped_values.append((session_number, previous_value, current_value, interval, next_value, magnitude_increase))\n",
    "            else:\n",
    "                jumped_values.append((session_number, previous_value, current_value, interval, None, None))\n",
    "\n",
    "# Create a DataFrame from the results for better readability\n",
    "jumped_values_df = pd.DataFrame(jumped_values, columns=[\"Session\", \"Previous Value\", \"Jumped Value\", \"Interval\", \"Next Value\", \"Magnitude of Increase\"])\n",
    "\n",
    "# Print the results neatly in a table\n",
    "print(jumped_values_df)"
   ]
  },
  {
   "cell_type": "markdown",
   "id": "2397f1c7",
   "metadata": {},
   "source": [
    "# Filtering out likely extraneous values from Wakeup Counter"
   ]
  },
  {
   "cell_type": "markdown",
   "id": "ecc6e012",
   "metadata": {},
   "source": [
    "1. Find the values that only jump with a magnitude of 10 amongst 6 digit numbers that do not have a following number."
   ]
  },
  {
   "cell_type": "code",
   "execution_count": 54,
   "id": "89eb884a",
   "metadata": {},
   "outputs": [
    {
     "name": "stdout",
     "output_type": "stream",
     "text": [
      "     Session  Previous Value  Jumped Value     Interval  Next Value  \\\n",
      "92      9219          140000    1074896900  7677.835000         NaN   \n",
      "122    11239          150775    1074896900  7129.145415         NaN   \n",
      "27      3923          207065    1074896900  5191.108589         NaN   \n",
      "51      5234          201473     525998504  2610.764241         NaN   \n",
      "67      6687         1666550    4294967295  2577.160778         NaN   \n",
      "144    12551         1630726    4015062186  2462.131705         NaN   \n",
      "87      8933          145635     316015528  2169.914705         NaN   \n",
      "114    10609         1659728    3036871261  1829.740332         NaN   \n",
      "170    14211         3019969    3054266768  1011.356993         NaN   \n",
      "26      3885         3415010    3135259112   918.081971         NaN   \n",
      "175    14529          283416     142988720   504.518870         NaN   \n",
      "55      5903         2811769    1074896900   382.284925         NaN   \n",
      "73      7969         2968469     738208087   248.683105         NaN   \n",
      "0         15          358395      17429444    48.631940         NaN   \n",
      "138    12307          102301       4283686    41.873354         NaN   \n",
      "58      6001         1108456      32940574    29.717530         NaN   \n",
      "3        484         2770232      74067170    26.736811         NaN   \n",
      "53      5601          157841       4044908    25.626472         NaN   \n",
      "112    10544          380384       9080125    23.870944         NaN   \n",
      "76      8082          648434      14120256    21.775934         NaN   \n",
      "159    13830          337342       6561676    19.451109         NaN   \n",
      "131    12005          285319       2942552    10.313200         NaN   \n",
      "\n",
      "     Magnitude of Increase  \n",
      "92                     NaN  \n",
      "122                    NaN  \n",
      "27                     NaN  \n",
      "51                     NaN  \n",
      "67                     NaN  \n",
      "144                    NaN  \n",
      "87                     NaN  \n",
      "114                    NaN  \n",
      "170                    NaN  \n",
      "26                     NaN  \n",
      "175                    NaN  \n",
      "55                     NaN  \n",
      "73                     NaN  \n",
      "0                      NaN  \n",
      "138                    NaN  \n",
      "58                     NaN  \n",
      "3                      NaN  \n",
      "53                     NaN  \n",
      "112                    NaN  \n",
      "76                     NaN  \n",
      "159                    NaN  \n",
      "131                    NaN  \n"
     ]
    }
   ],
   "source": [
    "# check which sessions have a next value of NaN to show that it is likely not a mistake\n",
    "jumped_values_df_nan = jumped_values_df[jumped_values_df[\"Next Value\"].isna()]\n",
    "\n",
    "# sort by interval to check how anomalous they are\n",
    "jumped_values_df_nan_sorted = jumped_values_df_nan.sort_values(by=\"Interval\", ascending=False)\n",
    "\n",
    "# these values are all likely to be mistakes, we will judge which values are to be dropped or kept\n",
    "print(jumped_values_df_nan_sorted)\n",
    "\n",
    "# we will likely drop all values here"
   ]
  },
  {
   "cell_type": "code",
   "execution_count": 55,
   "id": "86456a65",
   "metadata": {},
   "outputs": [
    {
     "name": "stdout",
     "output_type": "stream",
     "text": [
      "[1074896900, 1074896900, 1074896900, 525998504, 4294967295, 4015062186, 316015528, 3036871261, 3054266768, 3135259112, 142988720, 1074896900, 738208087, 17429444, 4283686, 32940574, 74067170, 4044908, 9080125, 14120256, 6561676, 2942552]\n"
     ]
    }
   ],
   "source": [
    "# Get the list of \"Jumped Value\" to drop\n",
    "values_to_drop = jumped_values_df_nan_sorted[\"Jumped Value\"].tolist()\n",
    "print(values_to_drop)"
   ]
  },
  {
   "cell_type": "code",
   "execution_count": 56,
   "id": "6864057e",
   "metadata": {},
   "outputs": [
    {
     "name": "stdout",
     "output_type": "stream",
     "text": [
      "        factory_id  tag_type_code battery_replace_date display_name  \\\n",
      "0           196608            208  2018-03-28 01:00:00    eTag150E2   \n",
      "1           196608            208  2018-03-28 01:00:00    eTag150E2   \n",
      "2           196608            208  2018-03-28 01:00:00    eTag150E2   \n",
      "3         71269681            208  2017-11-09 00:00:00    eTag150E2   \n",
      "4         71269681            208  2017-11-09 00:00:00    eTag150E2   \n",
      "...            ...            ...                  ...          ...   \n",
      "999994    72638481            208  2018-05-19 01:00:00    eTag150E2   \n",
      "999995    72638481            208  2018-05-19 01:00:00    eTag150E2   \n",
      "999996    72638481            208  2018-05-19 01:00:00    eTag150E2   \n",
      "999997    72638481            208  2018-05-19 01:00:00    eTag150E2   \n",
      "999998    72638481            208  2018-05-19 01:00:00    eTag150E2   \n",
      "\n",
      "        wdt_state_id  sensor_value  voltage  battery_capacity  base_capacity  \\\n",
      "0                  1           184   3.0124              84.4           84.4   \n",
      "1                  1           181   2.9626              85.0           85.0   \n",
      "2                  1           183   2.9958              85.5           85.5   \n",
      "3                  3           186   3.0456              32.3           32.3   \n",
      "4                  3           186   3.0456              32.9           32.9   \n",
      "...              ...           ...      ...               ...            ...   \n",
      "999994             3           181   2.9626              78.0           78.0   \n",
      "999995             3           181   2.9626              78.6           78.6   \n",
      "999996             3           180   2.9460              79.1           79.1   \n",
      "999997             3           180   2.9460              79.6           79.6   \n",
      "999998             3           181   2.9626              80.1           80.1   \n",
      "\n",
      "        wakeup_counter  firmware_version                read_date  \\\n",
      "0               329758                26  2018-11-23 12:01:49.823   \n",
      "1               352497                26  2018-11-15 12:02:36.749   \n",
      "2               376355                26  2018-11-07 12:02:12.394   \n",
      "3               399038                26  2021-01-31 12:03:59.484   \n",
      "4               422619                26   2021-01-22 12:03:00.92   \n",
      "...                ...               ...                      ...   \n",
      "999994          622145                26  2019-05-25 12:02:26.387   \n",
      "999995          654601                26  2019-05-17 12:03:16.272   \n",
      "999996          679991                26  2019-05-09 12:03:03.434   \n",
      "999997          703520                26   2019-05-01 12:02:30.42   \n",
      "999998          726797                26  2019-04-23 12:02:38.513   \n",
      "\n",
      "        render_counter  session  \n",
      "0                   21        0  \n",
      "1                   21        0  \n",
      "2                   21        0  \n",
      "3                   84        0  \n",
      "4                   84        0  \n",
      "...                ...      ...  \n",
      "999994               7    14898  \n",
      "999995               7    14898  \n",
      "999996               7    14898  \n",
      "999997               6    14898  \n",
      "999998               6    14898  \n",
      "\n",
      "[999919 rows x 14 columns]\n"
     ]
    }
   ],
   "source": [
    "# Drop the rows from the original DataFrame where wakeup_counter matches any of the jumped values\n",
    "df = df[~df['wakeup_counter'].isin(values_to_drop)]\n",
    "\n",
    "# Print the cleaned DataFrame\n",
    "print(df)"
   ]
  },
  {
   "cell_type": "code",
   "execution_count": 57,
   "id": "f5393a00",
   "metadata": {},
   "outputs": [
    {
     "data": {
      "text/plain": [
       "2181577510"
      ]
     },
     "execution_count": 57,
     "metadata": {},
     "output_type": "execute_result"
    }
   ],
   "source": [
    "df['wakeup_counter'].max()"
   ]
  },
  {
   "cell_type": "markdown",
   "id": "fe859158",
   "metadata": {},
   "source": [
    "2. Find all values where there exists a next value but sort by interval between one value and the 10x jumped value to find if the anomalous number continues to be anomalous."
   ]
  },
  {
   "cell_type": "code",
   "execution_count": 58,
   "id": "ef49871e",
   "metadata": {},
   "outputs": [
    {
     "name": "stdout",
     "output_type": "stream",
     "text": [
      "     Session  Previous Value  Jumped Value     Interval    Next Value  \\\n",
      "154    13358         1775930    2181065498  1228.125826  2.181088e+09   \n",
      "172    14401          128306       6456964    50.324724  6.485787e+06   \n",
      "119    11027          266064      12209285    45.888527  1.223378e+07   \n",
      "174    14456          788430      29549686    37.479150  2.957698e+07   \n",
      "168    14154          267325       9568562    35.793742  9.591411e+06   \n",
      "..       ...             ...           ...          ...           ...   \n",
      "59      6091          384714       3905335    10.151268  3.928585e+06   \n",
      "22      2682          370438       3751954    10.128426  3.775003e+06   \n",
      "178    14712          971170       9828509    10.120277  9.876464e+06   \n",
      "139    12374          200606       2022143    10.080172  2.047426e+06   \n",
      "30      4113          248185       2498841    10.068461  2.672008e+06   \n",
      "\n",
      "     Magnitude of Increase  \n",
      "154               1.000010  \n",
      "172               1.004464  \n",
      "119               1.002006  \n",
      "174               1.000924  \n",
      "168               1.002388  \n",
      "..                     ...  \n",
      "59                1.005953  \n",
      "22                1.006143  \n",
      "178               1.004879  \n",
      "139               1.012503  \n",
      "30                1.069299  \n",
      "\n",
      "[159 rows x 6 columns]\n",
      "57041\n",
      "112455\n",
      "136035\n",
      "159116\n",
      "182537\n",
      "205143\n",
      "259708\n",
      "285300\n",
      "307910\n",
      "330602\n",
      "354276\n",
      "402642\n",
      "425973\n",
      "448876\n",
      "497035\n",
      "519909\n",
      "543021\n",
      "568071\n",
      "592453\n",
      "615248\n",
      "637834\n",
      "660577\n",
      "688707\n",
      "714542\n",
      "739084\n",
      "764443\n",
      "791598\n",
      "819932\n",
      "843464\n",
      "866880\n",
      "890871\n",
      "916479\n",
      "942146\n",
      "969143\n",
      "994980\n",
      "1025810\n",
      "1049999\n",
      "1076446\n",
      "1104733\n",
      "1132111\n",
      "1159800\n",
      "1185719\n",
      "1210761\n",
      "1237878\n",
      "1262810\n",
      "1289179\n",
      "1314579\n",
      "1341072\n",
      "1365625\n",
      "1394346\n",
      "1423483\n",
      "1451691\n",
      "1478913\n",
      "1508312\n",
      "1533678\n",
      "1561394\n",
      "1590025\n",
      "1613580\n",
      "1639045\n",
      "1666925\n",
      "1695621\n",
      "1722283\n",
      "1748586\n",
      "1775930\n",
      "2181065498\n",
      "2181087615\n",
      "2181109659\n",
      "2181131751\n",
      "2181153401\n",
      "2181175396\n",
      "2181197478\n",
      "2181219508\n",
      "2181241360\n",
      "2181263448\n",
      "2181285087\n",
      "2181306538\n",
      "2181327790\n",
      "2181349138\n",
      "2181370821\n",
      "2181392341\n",
      "2181413926\n",
      "2181435574\n",
      "2181457438\n",
      "2181481481\n",
      "2181504558\n",
      "2181528308\n",
      "2181553660\n",
      "2181577510\n"
     ]
    }
   ],
   "source": [
    "# find numbers where next value is not NaN\n",
    "jumped_values_df_non_nan = jumped_values_df[jumped_values_df[\"Next Value\"].notna()]\n",
    "\n",
    "# sort by interval to find anomalous jumped values\n",
    "jumped_values_df_non_nan_sorted = jumped_values_df_non_nan.sort_values(by=\"Interval\", ascending=False)\n",
    "\n",
    "# it appears that only session 13358 contains continued anomalous numbers\n",
    "print(jumped_values_df_non_nan_sorted)\n",
    "\n",
    "# we will likely only drop the value from session 13358, as its jumped value is too large to be plausible\n",
    "session_number = 13358\n",
    "session_values = df[df['session'] == session_number]['wakeup_counter']\n",
    "\n",
    "# Print the values\n",
    "for i in session_values:\n",
    "    print(i)"
   ]
  },
  {
   "cell_type": "code",
   "execution_count": 59,
   "id": "d99f4a32",
   "metadata": {},
   "outputs": [
    {
     "name": "stdout",
     "output_type": "stream",
     "text": [
      "        factory_id  tag_type_code battery_replace_date display_name  \\\n",
      "0           196608            208  2018-03-28 01:00:00    eTag150E2   \n",
      "1           196608            208  2018-03-28 01:00:00    eTag150E2   \n",
      "2           196608            208  2018-03-28 01:00:00    eTag150E2   \n",
      "3         71269681            208  2017-11-09 00:00:00    eTag150E2   \n",
      "4         71269681            208  2017-11-09 00:00:00    eTag150E2   \n",
      "...            ...            ...                  ...          ...   \n",
      "999994    72638481            208  2018-05-19 01:00:00    eTag150E2   \n",
      "999995    72638481            208  2018-05-19 01:00:00    eTag150E2   \n",
      "999996    72638481            208  2018-05-19 01:00:00    eTag150E2   \n",
      "999997    72638481            208  2018-05-19 01:00:00    eTag150E2   \n",
      "999998    72638481            208  2018-05-19 01:00:00    eTag150E2   \n",
      "\n",
      "        wdt_state_id  sensor_value  voltage  battery_capacity  base_capacity  \\\n",
      "0                  1           184   3.0124              84.4           84.4   \n",
      "1                  1           181   2.9626              85.0           85.0   \n",
      "2                  1           183   2.9958              85.5           85.5   \n",
      "3                  3           186   3.0456              32.3           32.3   \n",
      "4                  3           186   3.0456              32.9           32.9   \n",
      "...              ...           ...      ...               ...            ...   \n",
      "999994             3           181   2.9626              78.0           78.0   \n",
      "999995             3           181   2.9626              78.6           78.6   \n",
      "999996             3           180   2.9460              79.1           79.1   \n",
      "999997             3           180   2.9460              79.6           79.6   \n",
      "999998             3           181   2.9626              80.1           80.1   \n",
      "\n",
      "        wakeup_counter  firmware_version                read_date  \\\n",
      "0               329758                26  2018-11-23 12:01:49.823   \n",
      "1               352497                26  2018-11-15 12:02:36.749   \n",
      "2               376355                26  2018-11-07 12:02:12.394   \n",
      "3               399038                26  2021-01-31 12:03:59.484   \n",
      "4               422619                26   2021-01-22 12:03:00.92   \n",
      "...                ...               ...                      ...   \n",
      "999994          622145                26  2019-05-25 12:02:26.387   \n",
      "999995          654601                26  2019-05-17 12:03:16.272   \n",
      "999996          679991                26  2019-05-09 12:03:03.434   \n",
      "999997          703520                26   2019-05-01 12:02:30.42   \n",
      "999998          726797                26  2019-04-23 12:02:38.513   \n",
      "\n",
      "        render_counter  session  \n",
      "0                   21        0  \n",
      "1                   21        0  \n",
      "2                   21        0  \n",
      "3                   84        0  \n",
      "4                   84        0  \n",
      "...                ...      ...  \n",
      "999994               7    14898  \n",
      "999995               7    14898  \n",
      "999996               7    14898  \n",
      "999997               6    14898  \n",
      "999998               6    14898  \n",
      "\n",
      "[999895 rows x 14 columns]\n"
     ]
    }
   ],
   "source": [
    "# Identify the jumped value and its index in session 13358\n",
    "jumped_value_13358 = jumped_values_df_non_nan_sorted.loc[jumped_values_df_non_nan_sorted['Session'] == 13358, 'Jumped Value'].iloc[0]\n",
    "\n",
    "# Get the index of the first jumped value in session 13358\n",
    "start_index = df[(df['session'] == 13358) & (df['wakeup_counter'] == jumped_value_13358)].index[0]\n",
    "\n",
    "# Find the index of the next session (to determine where session 13358 ends)\n",
    "next_session_index = df[df['session'] > 13358].index.min()\n",
    "\n",
    "# Drop the range of rows from the DataFrame\n",
    "if next_session_index:\n",
    "    df = df.drop(index=range(start_index, next_session_index))\n",
    "else:\n",
    "    df = df.drop(index=range(start_index, len(df)))  # Drop till the end if no next session\n",
    "\n",
    "# Print the cleaned DataFrame\n",
    "print(df)"
   ]
  },
  {
   "cell_type": "code",
   "execution_count": 60,
   "id": "2e2787ee",
   "metadata": {},
   "outputs": [
    {
     "data": {
      "text/plain": [
       "30036098"
      ]
     },
     "execution_count": 60,
     "metadata": {},
     "output_type": "execute_result"
    }
   ],
   "source": [
    "df['wakeup_counter'].max()"
   ]
  },
  {
   "cell_type": "markdown",
   "id": "4e410516",
   "metadata": {},
   "source": [
    "Visualize anomalous sessions"
   ]
  },
  {
   "cell_type": "markdown",
   "id": "544c8a47",
   "metadata": {},
   "source": [
    "3. Check the magnitude of the the jumped number and the following numbers to ensure they are consistent to denote plausibility"
   ]
  },
  {
   "cell_type": "code",
   "execution_count": 62,
   "id": "1dd5fe7e",
   "metadata": {},
   "outputs": [
    {
     "name": "stdout",
     "output_type": "stream",
     "text": [
      "     Session  Previous Value  Jumped Value     Interval    Next Value  \\\n",
      "151    13006          338643       4302179    12.704172  7.173942e+06   \n",
      "7       1134          178274       2200036    12.340756  3.619663e+06   \n",
      "10      1560          368734       5357243    14.528747  7.648416e+06   \n",
      "158    13749          243933       4730356    19.392030  5.421644e+06   \n",
      "2        302          108083       1097718    10.156250  1.212964e+06   \n",
      "..       ...             ...           ...          ...           ...   \n",
      "132    12020         1044097      19844163    19.006053  1.986899e+07   \n",
      "40      4763         1133011      24285387    21.434379  2.431108e+07   \n",
      "14      2341          307247       5665090    18.438227  5.670951e+06   \n",
      "174    14456          788430      29549686    37.479150  2.957698e+07   \n",
      "154    13358         1775930    2181065498  1228.125826  2.181088e+09   \n",
      "\n",
      "     Magnitude of Increase  \n",
      "151               1.667514  \n",
      "7                 1.645274  \n",
      "10                1.427678  \n",
      "158               1.146139  \n",
      "2                 1.104987  \n",
      "..                     ...  \n",
      "132               1.001251  \n",
      "40                1.001058  \n",
      "14                1.001035  \n",
      "174               1.000924  \n",
      "154               1.000010  \n",
      "\n",
      "[159 rows x 6 columns]\n"
     ]
    }
   ],
   "source": [
    "# Sort by magnitude of increase where next value is not NaN, ordered from largest to smallest\n",
    "jumped_values_df_non_nan_sorted_by_magnitude = jumped_values_df_non_nan_sorted.sort_values(by=\"Magnitude of Increase\", ascending=False)\n",
    "\n",
    "# Print the results\n",
    "print(jumped_values_df_non_nan_sorted_by_magnitude)\n",
    "\n",
    "# We can see that the magnitude of increase is not anomalous amongst the values that\n",
    "# have a next value, so none of the values here will be dropped."
   ]
  },
  {
   "cell_type": "code",
   "execution_count": 71,
   "id": "343c3819",
   "metadata": {},
   "outputs": [
    {
     "data": {
      "text/plain": [
       "0         329758\n",
       "1         352497\n",
       "2         376355\n",
       "3         399038\n",
       "4         422619\n",
       "           ...  \n",
       "999994    622145\n",
       "999995    654601\n",
       "999996    679991\n",
       "999997    703520\n",
       "999998    726797\n",
       "Name: wakeup_counter, Length: 999895, dtype: int64"
      ]
     },
     "execution_count": 71,
     "metadata": {},
     "output_type": "execute_result"
    }
   ],
   "source": [
    "# Since we dropped most of the anomalous values, we will recategorize the wakeup_counter sessions and analyze it.\n",
    "df['wakeup_counter'].dropna()"
   ]
  },
  {
   "cell_type": "code",
   "execution_count": 72,
   "id": "a68effc3",
   "metadata": {},
   "outputs": [
    {
     "name": "stdout",
     "output_type": "stream",
     "text": [
      "Amount of sessions: 14885\n"
     ]
    }
   ],
   "source": [
    "# Create a column that identifies when a session ends (when a number decreases)\n",
    "df['session_end'] = df['wakeup_counter'].diff().lt(0)\n",
    "df['session_end']\n",
    "\n",
    "# Filter the dataframe to find when session_end is True\n",
    "session_end_true = df[df['session_end'] == True]\n",
    "\n",
    "# Print amount of sessions\n",
    "print('Amount of sessions:', len(session_end_true))"
   ]
  },
  {
   "cell_type": "code",
   "execution_count": 73,
   "id": "87b141a4",
   "metadata": {},
   "outputs": [
    {
     "data": {
      "text/plain": [
       "0             0\n",
       "1             0\n",
       "2             0\n",
       "3             0\n",
       "4             0\n",
       "          ...  \n",
       "999994    14885\n",
       "999995    14885\n",
       "999996    14885\n",
       "999997    14885\n",
       "999998    14885\n",
       "Name: session, Length: 999895, dtype: int32"
      ]
     },
     "execution_count": 73,
     "metadata": {},
     "output_type": "execute_result"
    }
   ],
   "source": [
    "# Create a session ID based on when the session ends\n",
    "df['session'] = df['session_end'].cumsum()\n",
    "df['session']"
   ]
  },
  {
   "cell_type": "code",
   "execution_count": 74,
   "id": "113bb1a7",
   "metadata": {},
   "outputs": [],
   "source": [
    "# Drop 'session_end' column and reset the index\n",
    "df = df.drop(columns='session_end')"
   ]
  },
  {
   "cell_type": "code",
   "execution_count": 75,
   "id": "813816d6",
   "metadata": {},
   "outputs": [
    {
     "name": "stdout",
     "output_type": "stream",
     "text": [
      "            min       max\n",
      "session                  \n",
      "0        329758   1493071\n",
      "1         22610    262317\n",
      "2         15526   2208799\n",
      "3         22311   2275734\n",
      "4         16305    611250\n",
      "...         ...       ...\n",
      "14881    316539  11404318\n",
      "14882     22226   1975236\n",
      "14883     22212    656727\n",
      "14884     19916   2808148\n",
      "14885    313056    726797\n",
      "\n",
      "[14886 rows x 2 columns]\n"
     ]
    }
   ],
   "source": [
    "# Group by the 'session' column and calculate the min and max for each session\n",
    "session_min_max = df.groupby('session')['wakeup_counter'].agg(['min', 'max'])\n",
    "\n",
    "# Display the result\n",
    "print(session_min_max)"
   ]
  },
  {
   "cell_type": "code",
   "execution_count": 76,
   "id": "00a1be23",
   "metadata": {},
   "outputs": [
    {
     "name": "stdout",
     "output_type": "stream",
     "text": [
      "            min       max\n",
      "session                  \n",
      "14444     12887  30036098\n",
      "4761      48513  24311082\n",
      "1943      14106  23923026\n",
      "14009     10458  21690020\n",
      "6872      14138  20674674\n",
      "12010      7457  20353550\n",
      "10598     15199  19897071\n",
      "9975      42259  19373926\n",
      "13066     36674  19185992\n",
      "8105       8735  19135970\n",
      "7850     123030  18317115\n",
      "1084      14032  17833622\n",
      "8048      44428  17028841\n",
      "13986     17122  16697712\n",
      "8673       7399  16493716\n",
      "4577      19427  16167821\n",
      "5262      19385  16027740\n",
      "10035     10044  15837768\n",
      "3879     152326  15324195\n",
      "6630     187856  15293279\n"
     ]
    }
   ],
   "source": [
    "# Sort the sessions by the 'max' value in descending order and select the top 20\n",
    "top_sessions = session_min_max.sort_values(by='max', ascending=False).head(20)\n",
    "\n",
    "# Print the top sessions with their min and max values\n",
    "print(top_sessions)"
   ]
  },
  {
   "cell_type": "code",
   "execution_count": null,
   "id": "2a36fe42",
   "metadata": {},
   "outputs": [],
   "source": []
  },
  {
   "cell_type": "code",
   "execution_count": null,
   "id": "5518a285",
   "metadata": {},
   "outputs": [],
   "source": []
  },
  {
   "cell_type": "code",
   "execution_count": null,
   "id": "3d633891",
   "metadata": {},
   "outputs": [],
   "source": []
  },
  {
   "cell_type": "code",
   "execution_count": null,
   "id": "5b77cdcd",
   "metadata": {
    "scrolled": false
   },
   "outputs": [],
   "source": []
  },
  {
   "cell_type": "code",
   "execution_count": 77,
   "id": "73c35f4c",
   "metadata": {},
   "outputs": [
    {
     "data": {
      "image/png": "[encoded data removed]",
      "text/plain": [
       "<Figure size 1000x600 with 1 Axes>"
      ]
     },
     "metadata": {},
     "output_type": "display_data"
    }
   ],
   "source": [
    "# Group by the 'session' column and calculate the min and max for each session\n",
    "session_min_max_filtered = df.groupby('session')['wakeup_counter'].agg(['min', 'max'])\n",
    "\n",
    "# Sort the sessions by the max values in descending order and select the top 15\n",
    "top_15_sessions = session_min_max_filtered.sort_values('max', ascending=False).head(15)\n",
    "\n",
    "# Plot the min and max values\n",
    "plt.figure(figsize=(10, 6))\n",
    "plt.plot(session_min_max_filtered.index, session_min_max_filtered['min'], label='Min Value', color='blue', marker='o')\n",
    "plt.plot(session_min_max_filtered.index, session_min_max_filtered['max'], label='Max Value', color='red', marker='o')\n",
    "\n",
    "# Label the top 15 largest points (max values)\n",
    "for session in top_15_sessions.index:\n",
    "    max_value = session_min_max_filtered.loc[session, 'max']\n",
    "    plt.text(session, max_value, f'Session {session}', fontsize=9, ha='right', color='darkred')\n",
    "\n",
    "# Adding labels and title\n",
    "plt.xlabel('Session')\n",
    "plt.ylabel('Wakeup Counter Value')\n",
    "plt.title('Min and Max Wakeup Counter Values per Session')\n",
    "\n",
    "# Displaying the legend\n",
    "plt.legend()\n",
    "\n",
    "# Show the plot\n",
    "plt.tight_layout()\n",
    "plt.show()\n"
   ]
  },
  {
   "cell_type": "code",
   "execution_count": 80,
   "id": "1a91d0d6",
   "metadata": {},
   "outputs": [
    {
     "data": {
      "text/plain": [
       "factory_id                int64\n",
       "tag_type_code             int64\n",
       "battery_replace_date     object\n",
       "display_name             object\n",
       "wdt_state_id              int64\n",
       "sensor_value              int64\n",
       "voltage                 float64\n",
       "battery_capacity        float64\n",
       "base_capacity           float64\n",
       "wakeup_counter            int64\n",
       "firmware_version          int64\n",
       "read_date                object\n",
       "render_counter            int64\n",
       "session                   int32\n",
       "dtype: object"
      ]
     },
     "execution_count": 80,
     "metadata": {},
     "output_type": "execute_result"
    }
   ],
   "source": [
    "df.dtypes"
   ]
  },
  {
   "cell_type": "code",
   "execution_count": null,
   "id": "de0f95b3",
   "metadata": {},
   "outputs": [],
   "source": [
    "# firmware version\n",
    "firmware = df['firmware_version'].unique()\n",
    "print('Unique Firmware Version:', len(firmware))\n",
    "\n",
    "print(df['firmware_version'].value_counts())\n",
    "\n",
    "# read date\n",
    "read_date = df['read_date']\n",
    "print('Read Date Range:', read_date.min(), 'to', read_date.max())\n",
    "\n",
    "# render counter\n",
    "render = df['render_counter'].unique()\n",
    "print('Unique Render Counter:', len(render))"
   ]
  },
  {
   "cell_type": "code",
   "execution_count": null,
   "id": "a041202b",
   "metadata": {},
   "outputs": [],
   "source": [
    "df['render_counter'].value_counts()"
   ]
  },
  {
   "cell_type": "code",
   "execution_count": null,
   "id": "508cac59",
   "metadata": {},
   "outputs": [],
   "source": [
    "# Generate Q-Q plot for 'render_counter'\n",
    "stats.probplot(df['render_counter'], dist=\"norm\", plot=plt)\n",
    "plt.title(\"Q-Q Plot for Render Counter\")\n",
    "plt.xlabel(\"Theoretical Quantiles\")\n",
    "plt.ylabel(\"Sample Quantiles\")\n",
    "plt.grid(True)\n",
    "plt.show()"
   ]
  },
  {
   "cell_type": "code",
   "execution_count": null,
   "id": "78d51146",
   "metadata": {},
   "outputs": [],
   "source": [
    "# Box plot for 'render_counter'\n",
    "plt.figure(figsize=(8, 6))\n",
    "sns.boxplot(x=df['render_counter'])\n",
    "plt.title(\"Box Plot for Render Counter\")\n",
    "plt.xlabel(\"Render Counter\")\n",
    "plt.grid(True)\n",
    "plt.show()"
   ]
  },
  {
   "cell_type": "code",
   "execution_count": null,
   "id": "9a3010d8",
   "metadata": {},
   "outputs": [],
   "source": [
    "# Get unique values from 'render_counter', sort them, and get the top 50 largest\n",
    "top_50_unique_values = df['render_counter'].drop_duplicates().nlargest(50)\n",
    "print(top_50_unique_values)"
   ]
  },
  {
   "cell_type": "code",
   "execution_count": null,
   "id": "a64a11c4",
   "metadata": {
    "scrolled": false
   },
   "outputs": [],
   "source": []
  },
  {
   "cell_type": "code",
   "execution_count": null,
   "id": "e00b20d0",
   "metadata": {},
   "outputs": [],
   "source": []
  },
  {
   "cell_type": "code",
   "execution_count": null,
   "id": "8a5e335e",
   "metadata": {},
   "outputs": [],
   "source": []
  }
 ],
 "metadata": {
  "kernelspec": {
   "display_name": "Python 3 (ipykernel)",
   "language": "python",
   "name": "python3"
  },
  "language_info": {
   "codemirror_mode": {
    "name": "ipython",
    "version": 3
   },
   "file_extension": ".py",
   "mimetype": "text/x-python",
   "name": "python",
   "nbconvert_exporter": "python",
   "pygments_lexer": "ipython3",
   "version": "3.11.5"
  }
 },
 "nbformat": 4,
 "nbformat_minor": 5
}
